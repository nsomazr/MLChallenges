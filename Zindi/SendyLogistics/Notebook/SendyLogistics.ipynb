{
 "cells": [
  {
   "cell_type": "code",
   "execution_count": 1,
   "metadata": {},
   "outputs": [],
   "source": [
    "#import all the necessary libraries\n",
    "import pandas as pd \n",
    "import numpy as np \n",
    "import matplotlib.pyplot as plt \n",
    "import seaborn as sb \n",
    "from sklearn.preprocessing import Imputer\n",
    "from sklearn.impute import SimpleImputer\n",
    "from sklearn.preprocessing import OneHotEncoder\n",
    "from sklearn.preprocessing import LabelBinarizer\n",
    "from sklearn.preprocessing import  LabelEncoder\n",
    "from sklearn.preprocessing import StandardScaler\n",
    "from sklearn.preprocessing import MinMaxScaler\n",
    "from sklearn.preprocessing import MaxAbsScaler\n",
    "from sklearn.pipeline import Pipeline\n",
    "from sklearn.base import TransformerMixin\n",
    "from sklearn.base import BaseEstimator\n",
    "from sklearn.model_selection import train_test_split\n",
    "from sklearn.model_selection import cross_val_score\n",
    "from sklearn.model_selection import GridSearchCV\n",
    "from sklearn.model_selection import RandomizedSearchCV\n",
    "from sklearn.model_selection import KFold\n",
    "import joblib\n",
    "from sklearn.metrics import mean_squared_error\n",
    "from sklearn.linear_model import  LinearRegression\n",
    "from sklearn.svm import SVR\n",
    "from sklearn.tree import DecisionTreeRegressor\n",
    "from sklearn.ensemble import RandomForestRegressor\n",
    "from sklearn.ensemble import GradientBoostingRegressor\n",
    "from sklearn.ensemble import AdaBoostRegressor\n",
    "from sklearn.neural_network import MLPRegressor\n",
    "from xgboost.sklearn import  XGBRegressor\n",
    "from sklearn import warnings\n",
    "from sklearn.pipeline import FeatureUnion\n",
    "warnings.filterwarnings(\"ignore\")"
   ]
  },
  {
   "cell_type": "markdown",
   "metadata": {},
   "source": [
    "#### Load datasets"
   ]
  },
  {
   "cell_type": "code",
   "execution_count": 2,
   "metadata": {},
   "outputs": [],
   "source": [
    "#load \n",
    "training_data = pd.read_csv('/home/nsomazr/AISuccess/Challenges/Zindi/SendLogistics/Data/Train.csv')"
   ]
  },
  {
   "cell_type": "code",
   "execution_count": 3,
   "metadata": {},
   "outputs": [],
   "source": [
    "#load rider info\n",
    "rider_info = pd.read_csv('/home/nsomazr/AISuccess/Challenges/Zindi/SendLogistics/Data/Riders.csv')"
   ]
  },
  {
   "cell_type": "markdown",
   "metadata": {},
   "source": [
    "#### Get information about dataset \n",
    "- Training data\n",
    "- Rider data"
   ]
  },
  {
   "cell_type": "code",
   "execution_count": 4,
   "metadata": {},
   "outputs": [
    {
     "name": "stdout",
     "output_type": "stream",
     "text": [
      "<class 'pandas.core.frame.DataFrame'>\n",
      "RangeIndex: 21201 entries, 0 to 21200\n",
      "Data columns (total 29 columns):\n",
      "Order No                                     21201 non-null object\n",
      "User Id                                      21201 non-null object\n",
      "Vehicle Type                                 21201 non-null object\n",
      "Platform Type                                21201 non-null int64\n",
      "Personal or Business                         21201 non-null object\n",
      "Placement - Day of Month                     21201 non-null int64\n",
      "Placement - Weekday (Mo = 1)                 21201 non-null int64\n",
      "Placement - Time                             21201 non-null object\n",
      "Confirmation - Day of Month                  21201 non-null int64\n",
      "Confirmation - Weekday (Mo = 1)              21201 non-null int64\n",
      "Confirmation - Time                          21201 non-null object\n",
      "Arrival at Pickup - Day of Month             21201 non-null int64\n",
      "Arrival at Pickup - Weekday (Mo = 1)         21201 non-null int64\n",
      "Arrival at Pickup - Time                     21201 non-null object\n",
      "Pickup - Day of Month                        21201 non-null int64\n",
      "Pickup - Weekday (Mo = 1)                    21201 non-null int64\n",
      "Pickup - Time                                21201 non-null object\n",
      "Arrival at Destination - Day of Month        21201 non-null int64\n",
      "Arrival at Destination - Weekday (Mo = 1)    21201 non-null int64\n",
      "Arrival at Destination - Time                21201 non-null object\n",
      "Distance (KM)                                21201 non-null int64\n",
      "Temperature                                  16835 non-null float64\n",
      "Precipitation in millimeters                 552 non-null float64\n",
      "Pickup Lat                                   21201 non-null float64\n",
      "Pickup Long                                  21201 non-null float64\n",
      "Destination Lat                              21201 non-null float64\n",
      "Destination Long                             21201 non-null float64\n",
      "Rider Id                                     21201 non-null object\n",
      "Time from Pickup to Arrival                  21201 non-null int64\n",
      "dtypes: float64(6), int64(13), object(10)\n",
      "memory usage: 4.7+ MB\n"
     ]
    }
   ],
   "source": [
    "training_data.info()"
   ]
  },
  {
   "cell_type": "code",
   "execution_count": 5,
   "metadata": {},
   "outputs": [
    {
     "data": {
      "text/plain": [
       "Index(['Order No', 'User Id', 'Vehicle Type', 'Platform Type',\n",
       "       'Personal or Business', 'Placement - Day of Month',\n",
       "       'Placement - Weekday (Mo = 1)', 'Placement - Time',\n",
       "       'Confirmation - Day of Month', 'Confirmation - Weekday (Mo = 1)',\n",
       "       'Confirmation - Time', 'Arrival at Pickup - Day of Month',\n",
       "       'Arrival at Pickup - Weekday (Mo = 1)', 'Arrival at Pickup - Time',\n",
       "       'Pickup - Day of Month', 'Pickup - Weekday (Mo = 1)', 'Pickup - Time',\n",
       "       'Arrival at Destination - Day of Month',\n",
       "       'Arrival at Destination - Weekday (Mo = 1)',\n",
       "       'Arrival at Destination - Time', 'Distance (KM)', 'Temperature',\n",
       "       'Precipitation in millimeters', 'Pickup Lat', 'Pickup Long',\n",
       "       'Destination Lat', 'Destination Long', 'Rider Id',\n",
       "       'Time from Pickup to Arrival'],\n",
       "      dtype='object')"
      ]
     },
     "execution_count": 5,
     "metadata": {},
     "output_type": "execute_result"
    }
   ],
   "source": [
    "#As it can be seen from the information training data have 29 columns\n",
    "training_data.columns"
   ]
  },
  {
   "cell_type": "code",
   "execution_count": 6,
   "metadata": {},
   "outputs": [
    {
     "name": "stdout",
     "output_type": "stream",
     "text": [
      "<class 'pandas.core.frame.DataFrame'>\n",
      "RangeIndex: 960 entries, 0 to 959\n",
      "Data columns (total 5 columns):\n",
      "Rider Id          960 non-null object\n",
      "No_Of_Orders      960 non-null int64\n",
      "Age               960 non-null int64\n",
      "Average_Rating    960 non-null float64\n",
      "No_of_Ratings     960 non-null int64\n",
      "dtypes: float64(1), int64(3), object(1)\n",
      "memory usage: 37.6+ KB\n"
     ]
    }
   ],
   "source": [
    "#check info for riders\n",
    "rider_info.info()"
   ]
  },
  {
   "cell_type": "code",
   "execution_count": 7,
   "metadata": {},
   "outputs": [
    {
     "data": {
      "text/plain": [
       "Index(['Rider Id', 'No_Of_Orders', 'Age', 'Average_Rating', 'No_of_Ratings'], dtype='object')"
      ]
     },
     "execution_count": 7,
     "metadata": {},
     "output_type": "execute_result"
    }
   ],
   "source": [
    "#riders data have 5 columns\n",
    "rider_info.columns"
   ]
  },
  {
   "cell_type": "markdown",
   "metadata": {},
   "source": [
    "#### Merge the two datasets"
   ]
  },
  {
   "cell_type": "code",
   "execution_count": 8,
   "metadata": {},
   "outputs": [],
   "source": [
    "#check for the common column to merge on ('Rider Id')"
   ]
  },
  {
   "cell_type": "code",
   "execution_count": 9,
   "metadata": {},
   "outputs": [],
   "source": [
    "dataset = pd.merge(training_data,rider_info,on='Rider Id',how='left')"
   ]
  },
  {
   "cell_type": "code",
   "execution_count": 10,
   "metadata": {},
   "outputs": [
    {
     "name": "stdout",
     "output_type": "stream",
     "text": [
      "<class 'pandas.core.frame.DataFrame'>\n",
      "Int64Index: 21201 entries, 0 to 21200\n",
      "Data columns (total 33 columns):\n",
      "Order No                                     21201 non-null object\n",
      "User Id                                      21201 non-null object\n",
      "Vehicle Type                                 21201 non-null object\n",
      "Platform Type                                21201 non-null int64\n",
      "Personal or Business                         21201 non-null object\n",
      "Placement - Day of Month                     21201 non-null int64\n",
      "Placement - Weekday (Mo = 1)                 21201 non-null int64\n",
      "Placement - Time                             21201 non-null object\n",
      "Confirmation - Day of Month                  21201 non-null int64\n",
      "Confirmation - Weekday (Mo = 1)              21201 non-null int64\n",
      "Confirmation - Time                          21201 non-null object\n",
      "Arrival at Pickup - Day of Month             21201 non-null int64\n",
      "Arrival at Pickup - Weekday (Mo = 1)         21201 non-null int64\n",
      "Arrival at Pickup - Time                     21201 non-null object\n",
      "Pickup - Day of Month                        21201 non-null int64\n",
      "Pickup - Weekday (Mo = 1)                    21201 non-null int64\n",
      "Pickup - Time                                21201 non-null object\n",
      "Arrival at Destination - Day of Month        21201 non-null int64\n",
      "Arrival at Destination - Weekday (Mo = 1)    21201 non-null int64\n",
      "Arrival at Destination - Time                21201 non-null object\n",
      "Distance (KM)                                21201 non-null int64\n",
      "Temperature                                  16835 non-null float64\n",
      "Precipitation in millimeters                 552 non-null float64\n",
      "Pickup Lat                                   21201 non-null float64\n",
      "Pickup Long                                  21201 non-null float64\n",
      "Destination Lat                              21201 non-null float64\n",
      "Destination Long                             21201 non-null float64\n",
      "Rider Id                                     21201 non-null object\n",
      "Time from Pickup to Arrival                  21201 non-null int64\n",
      "No_Of_Orders                                 21201 non-null int64\n",
      "Age                                          21201 non-null int64\n",
      "Average_Rating                               21201 non-null float64\n",
      "No_of_Ratings                                21201 non-null int64\n",
      "dtypes: float64(7), int64(16), object(10)\n",
      "memory usage: 5.5+ MB\n"
     ]
    }
   ],
   "source": [
    "dataset.info()"
   ]
  },
  {
   "cell_type": "code",
   "execution_count": 11,
   "metadata": {},
   "outputs": [
    {
     "data": {
      "text/html": [
       "<div>\n",
       "<style scoped>\n",
       "    .dataframe tbody tr th:only-of-type {\n",
       "        vertical-align: middle;\n",
       "    }\n",
       "\n",
       "    .dataframe tbody tr th {\n",
       "        vertical-align: top;\n",
       "    }\n",
       "\n",
       "    .dataframe thead th {\n",
       "        text-align: right;\n",
       "    }\n",
       "</style>\n",
       "<table border=\"1\" class=\"dataframe\">\n",
       "  <thead>\n",
       "    <tr style=\"text-align: right;\">\n",
       "      <th></th>\n",
       "      <th>Order No</th>\n",
       "      <th>User Id</th>\n",
       "      <th>Vehicle Type</th>\n",
       "      <th>Platform Type</th>\n",
       "      <th>Personal or Business</th>\n",
       "      <th>Placement - Day of Month</th>\n",
       "      <th>Placement - Weekday (Mo = 1)</th>\n",
       "      <th>Placement - Time</th>\n",
       "      <th>Confirmation - Day of Month</th>\n",
       "      <th>Confirmation - Weekday (Mo = 1)</th>\n",
       "      <th>...</th>\n",
       "      <th>Pickup Lat</th>\n",
       "      <th>Pickup Long</th>\n",
       "      <th>Destination Lat</th>\n",
       "      <th>Destination Long</th>\n",
       "      <th>Rider Id</th>\n",
       "      <th>Time from Pickup to Arrival</th>\n",
       "      <th>No_Of_Orders</th>\n",
       "      <th>Age</th>\n",
       "      <th>Average_Rating</th>\n",
       "      <th>No_of_Ratings</th>\n",
       "    </tr>\n",
       "  </thead>\n",
       "  <tbody>\n",
       "    <tr>\n",
       "      <th>0</th>\n",
       "      <td>Order_No_4211</td>\n",
       "      <td>User_Id_633</td>\n",
       "      <td>Bike</td>\n",
       "      <td>3</td>\n",
       "      <td>Business</td>\n",
       "      <td>9</td>\n",
       "      <td>5</td>\n",
       "      <td>9:35:46 AM</td>\n",
       "      <td>9</td>\n",
       "      <td>5</td>\n",
       "      <td>...</td>\n",
       "      <td>-1.317755</td>\n",
       "      <td>36.830370</td>\n",
       "      <td>-1.300406</td>\n",
       "      <td>36.829741</td>\n",
       "      <td>Rider_Id_432</td>\n",
       "      <td>745</td>\n",
       "      <td>1637</td>\n",
       "      <td>1309</td>\n",
       "      <td>13.8</td>\n",
       "      <td>549</td>\n",
       "    </tr>\n",
       "    <tr>\n",
       "      <th>1</th>\n",
       "      <td>Order_No_25375</td>\n",
       "      <td>User_Id_2285</td>\n",
       "      <td>Bike</td>\n",
       "      <td>3</td>\n",
       "      <td>Personal</td>\n",
       "      <td>12</td>\n",
       "      <td>5</td>\n",
       "      <td>11:16:16 AM</td>\n",
       "      <td>12</td>\n",
       "      <td>5</td>\n",
       "      <td>...</td>\n",
       "      <td>-1.351453</td>\n",
       "      <td>36.899315</td>\n",
       "      <td>-1.295004</td>\n",
       "      <td>36.814358</td>\n",
       "      <td>Rider_Id_856</td>\n",
       "      <td>1993</td>\n",
       "      <td>396</td>\n",
       "      <td>339</td>\n",
       "      <td>13.6</td>\n",
       "      <td>69</td>\n",
       "    </tr>\n",
       "    <tr>\n",
       "      <th>2</th>\n",
       "      <td>Order_No_1899</td>\n",
       "      <td>User_Id_265</td>\n",
       "      <td>Bike</td>\n",
       "      <td>3</td>\n",
       "      <td>Business</td>\n",
       "      <td>30</td>\n",
       "      <td>2</td>\n",
       "      <td>12:39:25 PM</td>\n",
       "      <td>30</td>\n",
       "      <td>2</td>\n",
       "      <td>...</td>\n",
       "      <td>-1.308284</td>\n",
       "      <td>36.843419</td>\n",
       "      <td>-1.300921</td>\n",
       "      <td>36.828195</td>\n",
       "      <td>Rider_Id_155</td>\n",
       "      <td>455</td>\n",
       "      <td>1023</td>\n",
       "      <td>242</td>\n",
       "      <td>12.5</td>\n",
       "      <td>114</td>\n",
       "    </tr>\n",
       "    <tr>\n",
       "      <th>3</th>\n",
       "      <td>Order_No_9336</td>\n",
       "      <td>User_Id_1402</td>\n",
       "      <td>Bike</td>\n",
       "      <td>3</td>\n",
       "      <td>Business</td>\n",
       "      <td>15</td>\n",
       "      <td>5</td>\n",
       "      <td>9:25:34 AM</td>\n",
       "      <td>15</td>\n",
       "      <td>5</td>\n",
       "      <td>...</td>\n",
       "      <td>-1.281301</td>\n",
       "      <td>36.832396</td>\n",
       "      <td>-1.257147</td>\n",
       "      <td>36.795063</td>\n",
       "      <td>Rider_Id_855</td>\n",
       "      <td>1341</td>\n",
       "      <td>886</td>\n",
       "      <td>283</td>\n",
       "      <td>14.5</td>\n",
       "      <td>113</td>\n",
       "    </tr>\n",
       "    <tr>\n",
       "      <th>4</th>\n",
       "      <td>Order_No_27883</td>\n",
       "      <td>User_Id_1737</td>\n",
       "      <td>Bike</td>\n",
       "      <td>1</td>\n",
       "      <td>Personal</td>\n",
       "      <td>13</td>\n",
       "      <td>1</td>\n",
       "      <td>9:55:18 AM</td>\n",
       "      <td>13</td>\n",
       "      <td>1</td>\n",
       "      <td>...</td>\n",
       "      <td>-1.266597</td>\n",
       "      <td>36.792118</td>\n",
       "      <td>-1.295041</td>\n",
       "      <td>36.809817</td>\n",
       "      <td>Rider_Id_770</td>\n",
       "      <td>1214</td>\n",
       "      <td>2311</td>\n",
       "      <td>872</td>\n",
       "      <td>14.1</td>\n",
       "      <td>533</td>\n",
       "    </tr>\n",
       "  </tbody>\n",
       "</table>\n",
       "<p>5 rows × 33 columns</p>\n",
       "</div>"
      ],
      "text/plain": [
       "         Order No       User Id Vehicle Type  Platform Type  \\\n",
       "0   Order_No_4211   User_Id_633         Bike              3   \n",
       "1  Order_No_25375  User_Id_2285         Bike              3   \n",
       "2   Order_No_1899   User_Id_265         Bike              3   \n",
       "3   Order_No_9336  User_Id_1402         Bike              3   \n",
       "4  Order_No_27883  User_Id_1737         Bike              1   \n",
       "\n",
       "  Personal or Business  Placement - Day of Month  \\\n",
       "0             Business                         9   \n",
       "1             Personal                        12   \n",
       "2             Business                        30   \n",
       "3             Business                        15   \n",
       "4             Personal                        13   \n",
       "\n",
       "   Placement - Weekday (Mo = 1) Placement - Time  Confirmation - Day of Month  \\\n",
       "0                             5       9:35:46 AM                            9   \n",
       "1                             5      11:16:16 AM                           12   \n",
       "2                             2      12:39:25 PM                           30   \n",
       "3                             5       9:25:34 AM                           15   \n",
       "4                             1       9:55:18 AM                           13   \n",
       "\n",
       "   Confirmation - Weekday (Mo = 1)      ...      Pickup Lat  Pickup Long  \\\n",
       "0                                5      ...       -1.317755    36.830370   \n",
       "1                                5      ...       -1.351453    36.899315   \n",
       "2                                2      ...       -1.308284    36.843419   \n",
       "3                                5      ...       -1.281301    36.832396   \n",
       "4                                1      ...       -1.266597    36.792118   \n",
       "\n",
       "   Destination Lat Destination Long      Rider Id  \\\n",
       "0        -1.300406        36.829741  Rider_Id_432   \n",
       "1        -1.295004        36.814358  Rider_Id_856   \n",
       "2        -1.300921        36.828195  Rider_Id_155   \n",
       "3        -1.257147        36.795063  Rider_Id_855   \n",
       "4        -1.295041        36.809817  Rider_Id_770   \n",
       "\n",
       "   Time from Pickup to Arrival No_Of_Orders   Age  Average_Rating  \\\n",
       "0                          745         1637  1309            13.8   \n",
       "1                         1993          396   339            13.6   \n",
       "2                          455         1023   242            12.5   \n",
       "3                         1341          886   283            14.5   \n",
       "4                         1214         2311   872            14.1   \n",
       "\n",
       "  No_of_Ratings  \n",
       "0           549  \n",
       "1            69  \n",
       "2           114  \n",
       "3           113  \n",
       "4           533  \n",
       "\n",
       "[5 rows x 33 columns]"
      ]
     },
     "execution_count": 11,
     "metadata": {},
     "output_type": "execute_result"
    }
   ],
   "source": [
    "dataset.head()"
   ]
  },
  {
   "cell_type": "markdown",
   "metadata": {},
   "source": [
    "#### Create a class for renaming columns"
   ]
  },
  {
   "cell_type": "code",
   "execution_count": 12,
   "metadata": {},
   "outputs": [],
   "source": [
    "class RenameColumns(BaseEstimator,TransformerMixin):\n",
    "    def __init__(self,column_names):\n",
    "        self.column_names = column_names\n",
    "    def fit(self,X,y=None):\n",
    "        return self\n",
    "    def transform(self,X,y=None):\n",
    "        new_names = [(str(i).replace(' ','_')).replace('-','') for i in column_names]\n",
    "        X.columns = new_names\n",
    "        return X"
   ]
  },
  {
   "cell_type": "markdown",
   "metadata": {},
   "source": [
    "#### Rename colum names"
   ]
  },
  {
   "cell_type": "code",
   "execution_count": 13,
   "metadata": {},
   "outputs": [],
   "source": [
    "#create an object of renamecolumn class\n",
    "column_names = dataset.columns\n",
    "rename = RenameColumns(column_names=column_names)"
   ]
  },
  {
   "cell_type": "code",
   "execution_count": 14,
   "metadata": {},
   "outputs": [],
   "source": [
    "#fit and transform the column names\n",
    "dataset = rename.fit_transform(dataset)"
   ]
  },
  {
   "cell_type": "code",
   "execution_count": 15,
   "metadata": {},
   "outputs": [
    {
     "data": {
      "text/html": [
       "<div>\n",
       "<style scoped>\n",
       "    .dataframe tbody tr th:only-of-type {\n",
       "        vertical-align: middle;\n",
       "    }\n",
       "\n",
       "    .dataframe tbody tr th {\n",
       "        vertical-align: top;\n",
       "    }\n",
       "\n",
       "    .dataframe thead th {\n",
       "        text-align: right;\n",
       "    }\n",
       "</style>\n",
       "<table border=\"1\" class=\"dataframe\">\n",
       "  <thead>\n",
       "    <tr style=\"text-align: right;\">\n",
       "      <th></th>\n",
       "      <th>Order_No</th>\n",
       "      <th>User_Id</th>\n",
       "      <th>Vehicle_Type</th>\n",
       "      <th>Platform_Type</th>\n",
       "      <th>Personal_or_Business</th>\n",
       "      <th>Placement__Day_of_Month</th>\n",
       "      <th>Placement__Weekday_(Mo_=_1)</th>\n",
       "      <th>Placement__Time</th>\n",
       "      <th>Confirmation__Day_of_Month</th>\n",
       "      <th>Confirmation__Weekday_(Mo_=_1)</th>\n",
       "      <th>...</th>\n",
       "      <th>Pickup_Lat</th>\n",
       "      <th>Pickup_Long</th>\n",
       "      <th>Destination_Lat</th>\n",
       "      <th>Destination_Long</th>\n",
       "      <th>Rider_Id</th>\n",
       "      <th>Time_from_Pickup_to_Arrival</th>\n",
       "      <th>No_Of_Orders</th>\n",
       "      <th>Age</th>\n",
       "      <th>Average_Rating</th>\n",
       "      <th>No_of_Ratings</th>\n",
       "    </tr>\n",
       "  </thead>\n",
       "  <tbody>\n",
       "    <tr>\n",
       "      <th>0</th>\n",
       "      <td>Order_No_4211</td>\n",
       "      <td>User_Id_633</td>\n",
       "      <td>Bike</td>\n",
       "      <td>3</td>\n",
       "      <td>Business</td>\n",
       "      <td>9</td>\n",
       "      <td>5</td>\n",
       "      <td>9:35:46 AM</td>\n",
       "      <td>9</td>\n",
       "      <td>5</td>\n",
       "      <td>...</td>\n",
       "      <td>-1.317755</td>\n",
       "      <td>36.830370</td>\n",
       "      <td>-1.300406</td>\n",
       "      <td>36.829741</td>\n",
       "      <td>Rider_Id_432</td>\n",
       "      <td>745</td>\n",
       "      <td>1637</td>\n",
       "      <td>1309</td>\n",
       "      <td>13.8</td>\n",
       "      <td>549</td>\n",
       "    </tr>\n",
       "    <tr>\n",
       "      <th>1</th>\n",
       "      <td>Order_No_25375</td>\n",
       "      <td>User_Id_2285</td>\n",
       "      <td>Bike</td>\n",
       "      <td>3</td>\n",
       "      <td>Personal</td>\n",
       "      <td>12</td>\n",
       "      <td>5</td>\n",
       "      <td>11:16:16 AM</td>\n",
       "      <td>12</td>\n",
       "      <td>5</td>\n",
       "      <td>...</td>\n",
       "      <td>-1.351453</td>\n",
       "      <td>36.899315</td>\n",
       "      <td>-1.295004</td>\n",
       "      <td>36.814358</td>\n",
       "      <td>Rider_Id_856</td>\n",
       "      <td>1993</td>\n",
       "      <td>396</td>\n",
       "      <td>339</td>\n",
       "      <td>13.6</td>\n",
       "      <td>69</td>\n",
       "    </tr>\n",
       "    <tr>\n",
       "      <th>2</th>\n",
       "      <td>Order_No_1899</td>\n",
       "      <td>User_Id_265</td>\n",
       "      <td>Bike</td>\n",
       "      <td>3</td>\n",
       "      <td>Business</td>\n",
       "      <td>30</td>\n",
       "      <td>2</td>\n",
       "      <td>12:39:25 PM</td>\n",
       "      <td>30</td>\n",
       "      <td>2</td>\n",
       "      <td>...</td>\n",
       "      <td>-1.308284</td>\n",
       "      <td>36.843419</td>\n",
       "      <td>-1.300921</td>\n",
       "      <td>36.828195</td>\n",
       "      <td>Rider_Id_155</td>\n",
       "      <td>455</td>\n",
       "      <td>1023</td>\n",
       "      <td>242</td>\n",
       "      <td>12.5</td>\n",
       "      <td>114</td>\n",
       "    </tr>\n",
       "    <tr>\n",
       "      <th>3</th>\n",
       "      <td>Order_No_9336</td>\n",
       "      <td>User_Id_1402</td>\n",
       "      <td>Bike</td>\n",
       "      <td>3</td>\n",
       "      <td>Business</td>\n",
       "      <td>15</td>\n",
       "      <td>5</td>\n",
       "      <td>9:25:34 AM</td>\n",
       "      <td>15</td>\n",
       "      <td>5</td>\n",
       "      <td>...</td>\n",
       "      <td>-1.281301</td>\n",
       "      <td>36.832396</td>\n",
       "      <td>-1.257147</td>\n",
       "      <td>36.795063</td>\n",
       "      <td>Rider_Id_855</td>\n",
       "      <td>1341</td>\n",
       "      <td>886</td>\n",
       "      <td>283</td>\n",
       "      <td>14.5</td>\n",
       "      <td>113</td>\n",
       "    </tr>\n",
       "    <tr>\n",
       "      <th>4</th>\n",
       "      <td>Order_No_27883</td>\n",
       "      <td>User_Id_1737</td>\n",
       "      <td>Bike</td>\n",
       "      <td>1</td>\n",
       "      <td>Personal</td>\n",
       "      <td>13</td>\n",
       "      <td>1</td>\n",
       "      <td>9:55:18 AM</td>\n",
       "      <td>13</td>\n",
       "      <td>1</td>\n",
       "      <td>...</td>\n",
       "      <td>-1.266597</td>\n",
       "      <td>36.792118</td>\n",
       "      <td>-1.295041</td>\n",
       "      <td>36.809817</td>\n",
       "      <td>Rider_Id_770</td>\n",
       "      <td>1214</td>\n",
       "      <td>2311</td>\n",
       "      <td>872</td>\n",
       "      <td>14.1</td>\n",
       "      <td>533</td>\n",
       "    </tr>\n",
       "  </tbody>\n",
       "</table>\n",
       "<p>5 rows × 33 columns</p>\n",
       "</div>"
      ],
      "text/plain": [
       "         Order_No       User_Id Vehicle_Type  Platform_Type  \\\n",
       "0   Order_No_4211   User_Id_633         Bike              3   \n",
       "1  Order_No_25375  User_Id_2285         Bike              3   \n",
       "2   Order_No_1899   User_Id_265         Bike              3   \n",
       "3   Order_No_9336  User_Id_1402         Bike              3   \n",
       "4  Order_No_27883  User_Id_1737         Bike              1   \n",
       "\n",
       "  Personal_or_Business  Placement__Day_of_Month  Placement__Weekday_(Mo_=_1)  \\\n",
       "0             Business                        9                            5   \n",
       "1             Personal                       12                            5   \n",
       "2             Business                       30                            2   \n",
       "3             Business                       15                            5   \n",
       "4             Personal                       13                            1   \n",
       "\n",
       "  Placement__Time  Confirmation__Day_of_Month  Confirmation__Weekday_(Mo_=_1)  \\\n",
       "0      9:35:46 AM                           9                               5   \n",
       "1     11:16:16 AM                          12                               5   \n",
       "2     12:39:25 PM                          30                               2   \n",
       "3      9:25:34 AM                          15                               5   \n",
       "4      9:55:18 AM                          13                               1   \n",
       "\n",
       "       ...      Pickup_Lat  Pickup_Long  Destination_Lat Destination_Long  \\\n",
       "0      ...       -1.317755    36.830370        -1.300406        36.829741   \n",
       "1      ...       -1.351453    36.899315        -1.295004        36.814358   \n",
       "2      ...       -1.308284    36.843419        -1.300921        36.828195   \n",
       "3      ...       -1.281301    36.832396        -1.257147        36.795063   \n",
       "4      ...       -1.266597    36.792118        -1.295041        36.809817   \n",
       "\n",
       "       Rider_Id  Time_from_Pickup_to_Arrival No_Of_Orders   Age  \\\n",
       "0  Rider_Id_432                          745         1637  1309   \n",
       "1  Rider_Id_856                         1993          396   339   \n",
       "2  Rider_Id_155                          455         1023   242   \n",
       "3  Rider_Id_855                         1341          886   283   \n",
       "4  Rider_Id_770                         1214         2311   872   \n",
       "\n",
       "   Average_Rating No_of_Ratings  \n",
       "0            13.8           549  \n",
       "1            13.6            69  \n",
       "2            12.5           114  \n",
       "3            14.5           113  \n",
       "4            14.1           533  \n",
       "\n",
       "[5 rows x 33 columns]"
      ]
     },
     "execution_count": 15,
     "metadata": {},
     "output_type": "execute_result"
    }
   ],
   "source": [
    "dataset.head()"
   ]
  },
  {
   "cell_type": "markdown",
   "metadata": {},
   "source": [
    "#### Drop easy visible unimportant class"
   ]
  },
  {
   "cell_type": "code",
   "execution_count": 16,
   "metadata": {},
   "outputs": [],
   "source": [
    "class DropLessImportant(BaseEstimator,TransformerMixin):\n",
    "    def __init__(self,less_important_cols):\n",
    "        self.less_important_cols = less_important_cols\n",
    "    def fit(self,X,y=None):\n",
    "        return self\n",
    "    def transform(self,X,y=None):\n",
    "        X = X.drop(self.less_important_cols,axis=1)\n",
    "        return X"
   ]
  },
  {
   "cell_type": "code",
   "execution_count": 17,
   "metadata": {},
   "outputs": [],
   "source": [
    "less_important_cols = ['Order_No','User_Id','Rider_Id']\n",
    "drop_less_important = DropLessImportant(less_important_cols=less_important_cols)"
   ]
  },
  {
   "cell_type": "code",
   "execution_count": 18,
   "metadata": {},
   "outputs": [],
   "source": [
    "dataset = drop_less_important.fit_transform(dataset)"
   ]
  },
  {
   "cell_type": "markdown",
   "metadata": {},
   "source": [
    "#### Identify the type of attributes then separate them from each other for easy processing"
   ]
  },
  {
   "cell_type": "code",
   "execution_count": 19,
   "metadata": {},
   "outputs": [
    {
     "data": {
      "text/plain": [
       "Vehicle_Type                                 object\n",
       "Platform_Type                                 int64\n",
       "Personal_or_Business                         object\n",
       "Placement__Day_of_Month                       int64\n",
       "Placement__Weekday_(Mo_=_1)                   int64\n",
       "Placement__Time                              object\n",
       "Confirmation__Day_of_Month                    int64\n",
       "Confirmation__Weekday_(Mo_=_1)                int64\n",
       "Confirmation__Time                           object\n",
       "Arrival_at_Pickup__Day_of_Month               int64\n",
       "Arrival_at_Pickup__Weekday_(Mo_=_1)           int64\n",
       "Arrival_at_Pickup__Time                      object\n",
       "Pickup__Day_of_Month                          int64\n",
       "Pickup__Weekday_(Mo_=_1)                      int64\n",
       "Pickup__Time                                 object\n",
       "Arrival_at_Destination__Day_of_Month          int64\n",
       "Arrival_at_Destination__Weekday_(Mo_=_1)      int64\n",
       "Arrival_at_Destination__Time                 object\n",
       "Distance_(KM)                                 int64\n",
       "Temperature                                 float64\n",
       "Precipitation_in_millimeters                float64\n",
       "Pickup_Lat                                  float64\n",
       "Pickup_Long                                 float64\n",
       "Destination_Lat                             float64\n",
       "Destination_Long                            float64\n",
       "Time_from_Pickup_to_Arrival                   int64\n",
       "No_Of_Orders                                  int64\n",
       "Age                                           int64\n",
       "Average_Rating                              float64\n",
       "No_of_Ratings                                 int64\n",
       "dtype: object"
      ]
     },
     "execution_count": 19,
     "metadata": {},
     "output_type": "execute_result"
    }
   ],
   "source": [
    "dataset.dtypes"
   ]
  },
  {
   "cell_type": "code",
   "execution_count": 20,
   "metadata": {},
   "outputs": [],
   "source": [
    "categorical_time_attributes = ['Vehicle_Type','Personal_or_Business','Placement__Time','Confirmation__Time','Pickup__Time','Arrival_at_Pickup__Time','Arrival_at_Destination__Time']"
   ]
  },
  {
   "cell_type": "markdown",
   "metadata": {},
   "source": [
    "#### Get numerical,categorical and time series attribute(a form of categorical)"
   ]
  },
  {
   "cell_type": "code",
   "execution_count": 21,
   "metadata": {},
   "outputs": [],
   "source": [
    "#define a class for getting numerical attributes \n",
    "class NumericalAttributes(BaseEstimator,TransformerMixin):\n",
    "    def __init__(self,other_attributes):\n",
    "        self.other_attributes = other_attributes\n",
    "    def fit(self,X,y=None):\n",
    "        return self\n",
    "    def transform(self,X,y=None):\n",
    "        numerical_attributes = [i for i in X.columns if i not in self.other_attributes]\n",
    "        return numerical_attributes"
   ]
  },
  {
   "cell_type": "code",
   "execution_count": 22,
   "metadata": {},
   "outputs": [],
   "source": [
    "get_num_attr = NumericalAttributes(other_attributes=categorical_time_attributes)\n",
    "numerical_attributes = get_num_attr.fit_transform(dataset)"
   ]
  },
  {
   "cell_type": "code",
   "execution_count": 23,
   "metadata": {},
   "outputs": [
    {
     "data": {
      "text/plain": [
       "['Platform_Type',\n",
       " 'Placement__Day_of_Month',\n",
       " 'Placement__Weekday_(Mo_=_1)',\n",
       " 'Confirmation__Day_of_Month',\n",
       " 'Confirmation__Weekday_(Mo_=_1)',\n",
       " 'Arrival_at_Pickup__Day_of_Month',\n",
       " 'Arrival_at_Pickup__Weekday_(Mo_=_1)',\n",
       " 'Pickup__Day_of_Month',\n",
       " 'Pickup__Weekday_(Mo_=_1)',\n",
       " 'Arrival_at_Destination__Day_of_Month',\n",
       " 'Arrival_at_Destination__Weekday_(Mo_=_1)',\n",
       " 'Distance_(KM)',\n",
       " 'Temperature',\n",
       " 'Precipitation_in_millimeters',\n",
       " 'Pickup_Lat',\n",
       " 'Pickup_Long',\n",
       " 'Destination_Lat',\n",
       " 'Destination_Long',\n",
       " 'Time_from_Pickup_to_Arrival',\n",
       " 'No_Of_Orders',\n",
       " 'Age',\n",
       " 'Average_Rating',\n",
       " 'No_of_Ratings']"
      ]
     },
     "execution_count": 23,
     "metadata": {},
     "output_type": "execute_result"
    }
   ],
   "source": [
    "numerical_attributes"
   ]
  },
  {
   "cell_type": "code",
   "execution_count": 24,
   "metadata": {},
   "outputs": [],
   "source": [
    "#idenfy time_attributes \n",
    "categorical_attributes = ['Vehicle_Type','Personal_or_Business']"
   ]
  },
  {
   "cell_type": "markdown",
   "metadata": {},
   "source": [
    "#### Process time series attributes "
   ]
  },
  {
   "cell_type": "code",
   "execution_count": 25,
   "metadata": {},
   "outputs": [],
   "source": [
    "class ProcessTime(BaseEstimator,TransformerMixin):\n",
    "    def __init__(self,categorical_time_attributes,categorical_attributes):\n",
    "        self.categorical_time_attributes = categorical_time_attributes\n",
    "        self.categorical_attributes = categorical_attributes\n",
    "    def fit(self,X,y=None):\n",
    "        return self\n",
    "    def transform(self,X,y=None):\n",
    "        time_attributes = [i for i in self.categorical_time_attributes if i not in self.categorical_attributes]\n",
    "        X[time_attributes] = pd.to_datetime(X[time_attributes].stack()).unstack()\n",
    "        for i in time_attributes:\n",
    "            X[i] = X[i].dt.hour \n",
    "        return X    \n",
    "            "
   ]
  },
  {
   "cell_type": "code",
   "execution_count": 26,
   "metadata": {},
   "outputs": [],
   "source": [
    "#create an object\n",
    "process_time = ProcessTime(categorical_time_attributes,categorical_attributes)\n",
    "dataset = process_time.fit_transform(dataset)"
   ]
  },
  {
   "cell_type": "code",
   "execution_count": 27,
   "metadata": {},
   "outputs": [
    {
     "data": {
      "text/html": [
       "<div>\n",
       "<style scoped>\n",
       "    .dataframe tbody tr th:only-of-type {\n",
       "        vertical-align: middle;\n",
       "    }\n",
       "\n",
       "    .dataframe tbody tr th {\n",
       "        vertical-align: top;\n",
       "    }\n",
       "\n",
       "    .dataframe thead th {\n",
       "        text-align: right;\n",
       "    }\n",
       "</style>\n",
       "<table border=\"1\" class=\"dataframe\">\n",
       "  <thead>\n",
       "    <tr style=\"text-align: right;\">\n",
       "      <th></th>\n",
       "      <th>Vehicle_Type</th>\n",
       "      <th>Platform_Type</th>\n",
       "      <th>Personal_or_Business</th>\n",
       "      <th>Placement__Day_of_Month</th>\n",
       "      <th>Placement__Weekday_(Mo_=_1)</th>\n",
       "      <th>Placement__Time</th>\n",
       "      <th>Confirmation__Day_of_Month</th>\n",
       "      <th>Confirmation__Weekday_(Mo_=_1)</th>\n",
       "      <th>Confirmation__Time</th>\n",
       "      <th>Arrival_at_Pickup__Day_of_Month</th>\n",
       "      <th>...</th>\n",
       "      <th>Precipitation_in_millimeters</th>\n",
       "      <th>Pickup_Lat</th>\n",
       "      <th>Pickup_Long</th>\n",
       "      <th>Destination_Lat</th>\n",
       "      <th>Destination_Long</th>\n",
       "      <th>Time_from_Pickup_to_Arrival</th>\n",
       "      <th>No_Of_Orders</th>\n",
       "      <th>Age</th>\n",
       "      <th>Average_Rating</th>\n",
       "      <th>No_of_Ratings</th>\n",
       "    </tr>\n",
       "  </thead>\n",
       "  <tbody>\n",
       "    <tr>\n",
       "      <th>0</th>\n",
       "      <td>Bike</td>\n",
       "      <td>3</td>\n",
       "      <td>Business</td>\n",
       "      <td>9</td>\n",
       "      <td>5</td>\n",
       "      <td>9</td>\n",
       "      <td>9</td>\n",
       "      <td>5</td>\n",
       "      <td>9</td>\n",
       "      <td>9</td>\n",
       "      <td>...</td>\n",
       "      <td>NaN</td>\n",
       "      <td>-1.317755</td>\n",
       "      <td>36.830370</td>\n",
       "      <td>-1.300406</td>\n",
       "      <td>36.829741</td>\n",
       "      <td>745</td>\n",
       "      <td>1637</td>\n",
       "      <td>1309</td>\n",
       "      <td>13.8</td>\n",
       "      <td>549</td>\n",
       "    </tr>\n",
       "    <tr>\n",
       "      <th>1</th>\n",
       "      <td>Bike</td>\n",
       "      <td>3</td>\n",
       "      <td>Personal</td>\n",
       "      <td>12</td>\n",
       "      <td>5</td>\n",
       "      <td>11</td>\n",
       "      <td>12</td>\n",
       "      <td>5</td>\n",
       "      <td>11</td>\n",
       "      <td>12</td>\n",
       "      <td>...</td>\n",
       "      <td>NaN</td>\n",
       "      <td>-1.351453</td>\n",
       "      <td>36.899315</td>\n",
       "      <td>-1.295004</td>\n",
       "      <td>36.814358</td>\n",
       "      <td>1993</td>\n",
       "      <td>396</td>\n",
       "      <td>339</td>\n",
       "      <td>13.6</td>\n",
       "      <td>69</td>\n",
       "    </tr>\n",
       "    <tr>\n",
       "      <th>2</th>\n",
       "      <td>Bike</td>\n",
       "      <td>3</td>\n",
       "      <td>Business</td>\n",
       "      <td>30</td>\n",
       "      <td>2</td>\n",
       "      <td>12</td>\n",
       "      <td>30</td>\n",
       "      <td>2</td>\n",
       "      <td>12</td>\n",
       "      <td>30</td>\n",
       "      <td>...</td>\n",
       "      <td>NaN</td>\n",
       "      <td>-1.308284</td>\n",
       "      <td>36.843419</td>\n",
       "      <td>-1.300921</td>\n",
       "      <td>36.828195</td>\n",
       "      <td>455</td>\n",
       "      <td>1023</td>\n",
       "      <td>242</td>\n",
       "      <td>12.5</td>\n",
       "      <td>114</td>\n",
       "    </tr>\n",
       "    <tr>\n",
       "      <th>3</th>\n",
       "      <td>Bike</td>\n",
       "      <td>3</td>\n",
       "      <td>Business</td>\n",
       "      <td>15</td>\n",
       "      <td>5</td>\n",
       "      <td>9</td>\n",
       "      <td>15</td>\n",
       "      <td>5</td>\n",
       "      <td>9</td>\n",
       "      <td>15</td>\n",
       "      <td>...</td>\n",
       "      <td>NaN</td>\n",
       "      <td>-1.281301</td>\n",
       "      <td>36.832396</td>\n",
       "      <td>-1.257147</td>\n",
       "      <td>36.795063</td>\n",
       "      <td>1341</td>\n",
       "      <td>886</td>\n",
       "      <td>283</td>\n",
       "      <td>14.5</td>\n",
       "      <td>113</td>\n",
       "    </tr>\n",
       "    <tr>\n",
       "      <th>4</th>\n",
       "      <td>Bike</td>\n",
       "      <td>1</td>\n",
       "      <td>Personal</td>\n",
       "      <td>13</td>\n",
       "      <td>1</td>\n",
       "      <td>9</td>\n",
       "      <td>13</td>\n",
       "      <td>1</td>\n",
       "      <td>9</td>\n",
       "      <td>13</td>\n",
       "      <td>...</td>\n",
       "      <td>NaN</td>\n",
       "      <td>-1.266597</td>\n",
       "      <td>36.792118</td>\n",
       "      <td>-1.295041</td>\n",
       "      <td>36.809817</td>\n",
       "      <td>1214</td>\n",
       "      <td>2311</td>\n",
       "      <td>872</td>\n",
       "      <td>14.1</td>\n",
       "      <td>533</td>\n",
       "    </tr>\n",
       "  </tbody>\n",
       "</table>\n",
       "<p>5 rows × 30 columns</p>\n",
       "</div>"
      ],
      "text/plain": [
       "  Vehicle_Type  Platform_Type Personal_or_Business  Placement__Day_of_Month  \\\n",
       "0         Bike              3             Business                        9   \n",
       "1         Bike              3             Personal                       12   \n",
       "2         Bike              3             Business                       30   \n",
       "3         Bike              3             Business                       15   \n",
       "4         Bike              1             Personal                       13   \n",
       "\n",
       "   Placement__Weekday_(Mo_=_1)  Placement__Time  Confirmation__Day_of_Month  \\\n",
       "0                            5                9                           9   \n",
       "1                            5               11                          12   \n",
       "2                            2               12                          30   \n",
       "3                            5                9                          15   \n",
       "4                            1                9                          13   \n",
       "\n",
       "   Confirmation__Weekday_(Mo_=_1)  Confirmation__Time  \\\n",
       "0                               5                   9   \n",
       "1                               5                  11   \n",
       "2                               2                  12   \n",
       "3                               5                   9   \n",
       "4                               1                   9   \n",
       "\n",
       "   Arrival_at_Pickup__Day_of_Month      ...        \\\n",
       "0                                9      ...         \n",
       "1                               12      ...         \n",
       "2                               30      ...         \n",
       "3                               15      ...         \n",
       "4                               13      ...         \n",
       "\n",
       "   Precipitation_in_millimeters  Pickup_Lat  Pickup_Long  Destination_Lat  \\\n",
       "0                           NaN   -1.317755    36.830370        -1.300406   \n",
       "1                           NaN   -1.351453    36.899315        -1.295004   \n",
       "2                           NaN   -1.308284    36.843419        -1.300921   \n",
       "3                           NaN   -1.281301    36.832396        -1.257147   \n",
       "4                           NaN   -1.266597    36.792118        -1.295041   \n",
       "\n",
       "   Destination_Long  Time_from_Pickup_to_Arrival  No_Of_Orders   Age  \\\n",
       "0         36.829741                          745          1637  1309   \n",
       "1         36.814358                         1993           396   339   \n",
       "2         36.828195                          455          1023   242   \n",
       "3         36.795063                         1341           886   283   \n",
       "4         36.809817                         1214          2311   872   \n",
       "\n",
       "   Average_Rating  No_of_Ratings  \n",
       "0            13.8            549  \n",
       "1            13.6             69  \n",
       "2            12.5            114  \n",
       "3            14.5            113  \n",
       "4            14.1            533  \n",
       "\n",
       "[5 rows x 30 columns]"
      ]
     },
     "execution_count": 27,
     "metadata": {},
     "output_type": "execute_result"
    }
   ],
   "source": [
    "dataset.head()"
   ]
  },
  {
   "cell_type": "markdown",
   "metadata": {},
   "source": [
    "#### Process categorical attributes "
   ]
  },
  {
   "cell_type": "code",
   "execution_count": 28,
   "metadata": {},
   "outputs": [],
   "source": [
    "class ProcessCategorical(BaseEstimator,TransformerMixin):\n",
    "    def __init__(self,categorical_attributes):\n",
    "        self.categorical_attributes = categorical_attributes\n",
    "    def fit(self,X,y=None):\n",
    "        return self\n",
    "    def transform(self,X,y=None):\n",
    "        label_encoder  = LabelEncoder()\n",
    "        for i in categorical_attributes:\n",
    "            X[i] = label_encoder.fit_transform(X[i])\n",
    "        return X"
   ]
  },
  {
   "cell_type": "code",
   "execution_count": 29,
   "metadata": {},
   "outputs": [],
   "source": [
    "cat_processor = ProcessCategorical(categorical_attributes=categorical_attributes)\n",
    "dataset = cat_processor.fit_transform(dataset)"
   ]
  },
  {
   "cell_type": "code",
   "execution_count": 30,
   "metadata": {},
   "outputs": [
    {
     "data": {
      "text/html": [
       "<div>\n",
       "<style scoped>\n",
       "    .dataframe tbody tr th:only-of-type {\n",
       "        vertical-align: middle;\n",
       "    }\n",
       "\n",
       "    .dataframe tbody tr th {\n",
       "        vertical-align: top;\n",
       "    }\n",
       "\n",
       "    .dataframe thead th {\n",
       "        text-align: right;\n",
       "    }\n",
       "</style>\n",
       "<table border=\"1\" class=\"dataframe\">\n",
       "  <thead>\n",
       "    <tr style=\"text-align: right;\">\n",
       "      <th></th>\n",
       "      <th>Vehicle_Type</th>\n",
       "      <th>Platform_Type</th>\n",
       "      <th>Personal_or_Business</th>\n",
       "      <th>Placement__Day_of_Month</th>\n",
       "      <th>Placement__Weekday_(Mo_=_1)</th>\n",
       "      <th>Placement__Time</th>\n",
       "      <th>Confirmation__Day_of_Month</th>\n",
       "      <th>Confirmation__Weekday_(Mo_=_1)</th>\n",
       "      <th>Confirmation__Time</th>\n",
       "      <th>Arrival_at_Pickup__Day_of_Month</th>\n",
       "      <th>...</th>\n",
       "      <th>Precipitation_in_millimeters</th>\n",
       "      <th>Pickup_Lat</th>\n",
       "      <th>Pickup_Long</th>\n",
       "      <th>Destination_Lat</th>\n",
       "      <th>Destination_Long</th>\n",
       "      <th>Time_from_Pickup_to_Arrival</th>\n",
       "      <th>No_Of_Orders</th>\n",
       "      <th>Age</th>\n",
       "      <th>Average_Rating</th>\n",
       "      <th>No_of_Ratings</th>\n",
       "    </tr>\n",
       "  </thead>\n",
       "  <tbody>\n",
       "    <tr>\n",
       "      <th>0</th>\n",
       "      <td>0</td>\n",
       "      <td>3</td>\n",
       "      <td>0</td>\n",
       "      <td>9</td>\n",
       "      <td>5</td>\n",
       "      <td>9</td>\n",
       "      <td>9</td>\n",
       "      <td>5</td>\n",
       "      <td>9</td>\n",
       "      <td>9</td>\n",
       "      <td>...</td>\n",
       "      <td>NaN</td>\n",
       "      <td>-1.317755</td>\n",
       "      <td>36.830370</td>\n",
       "      <td>-1.300406</td>\n",
       "      <td>36.829741</td>\n",
       "      <td>745</td>\n",
       "      <td>1637</td>\n",
       "      <td>1309</td>\n",
       "      <td>13.8</td>\n",
       "      <td>549</td>\n",
       "    </tr>\n",
       "    <tr>\n",
       "      <th>1</th>\n",
       "      <td>0</td>\n",
       "      <td>3</td>\n",
       "      <td>1</td>\n",
       "      <td>12</td>\n",
       "      <td>5</td>\n",
       "      <td>11</td>\n",
       "      <td>12</td>\n",
       "      <td>5</td>\n",
       "      <td>11</td>\n",
       "      <td>12</td>\n",
       "      <td>...</td>\n",
       "      <td>NaN</td>\n",
       "      <td>-1.351453</td>\n",
       "      <td>36.899315</td>\n",
       "      <td>-1.295004</td>\n",
       "      <td>36.814358</td>\n",
       "      <td>1993</td>\n",
       "      <td>396</td>\n",
       "      <td>339</td>\n",
       "      <td>13.6</td>\n",
       "      <td>69</td>\n",
       "    </tr>\n",
       "    <tr>\n",
       "      <th>2</th>\n",
       "      <td>0</td>\n",
       "      <td>3</td>\n",
       "      <td>0</td>\n",
       "      <td>30</td>\n",
       "      <td>2</td>\n",
       "      <td>12</td>\n",
       "      <td>30</td>\n",
       "      <td>2</td>\n",
       "      <td>12</td>\n",
       "      <td>30</td>\n",
       "      <td>...</td>\n",
       "      <td>NaN</td>\n",
       "      <td>-1.308284</td>\n",
       "      <td>36.843419</td>\n",
       "      <td>-1.300921</td>\n",
       "      <td>36.828195</td>\n",
       "      <td>455</td>\n",
       "      <td>1023</td>\n",
       "      <td>242</td>\n",
       "      <td>12.5</td>\n",
       "      <td>114</td>\n",
       "    </tr>\n",
       "    <tr>\n",
       "      <th>3</th>\n",
       "      <td>0</td>\n",
       "      <td>3</td>\n",
       "      <td>0</td>\n",
       "      <td>15</td>\n",
       "      <td>5</td>\n",
       "      <td>9</td>\n",
       "      <td>15</td>\n",
       "      <td>5</td>\n",
       "      <td>9</td>\n",
       "      <td>15</td>\n",
       "      <td>...</td>\n",
       "      <td>NaN</td>\n",
       "      <td>-1.281301</td>\n",
       "      <td>36.832396</td>\n",
       "      <td>-1.257147</td>\n",
       "      <td>36.795063</td>\n",
       "      <td>1341</td>\n",
       "      <td>886</td>\n",
       "      <td>283</td>\n",
       "      <td>14.5</td>\n",
       "      <td>113</td>\n",
       "    </tr>\n",
       "    <tr>\n",
       "      <th>4</th>\n",
       "      <td>0</td>\n",
       "      <td>1</td>\n",
       "      <td>1</td>\n",
       "      <td>13</td>\n",
       "      <td>1</td>\n",
       "      <td>9</td>\n",
       "      <td>13</td>\n",
       "      <td>1</td>\n",
       "      <td>9</td>\n",
       "      <td>13</td>\n",
       "      <td>...</td>\n",
       "      <td>NaN</td>\n",
       "      <td>-1.266597</td>\n",
       "      <td>36.792118</td>\n",
       "      <td>-1.295041</td>\n",
       "      <td>36.809817</td>\n",
       "      <td>1214</td>\n",
       "      <td>2311</td>\n",
       "      <td>872</td>\n",
       "      <td>14.1</td>\n",
       "      <td>533</td>\n",
       "    </tr>\n",
       "  </tbody>\n",
       "</table>\n",
       "<p>5 rows × 30 columns</p>\n",
       "</div>"
      ],
      "text/plain": [
       "   Vehicle_Type  Platform_Type  Personal_or_Business  Placement__Day_of_Month  \\\n",
       "0             0              3                     0                        9   \n",
       "1             0              3                     1                       12   \n",
       "2             0              3                     0                       30   \n",
       "3             0              3                     0                       15   \n",
       "4             0              1                     1                       13   \n",
       "\n",
       "   Placement__Weekday_(Mo_=_1)  Placement__Time  Confirmation__Day_of_Month  \\\n",
       "0                            5                9                           9   \n",
       "1                            5               11                          12   \n",
       "2                            2               12                          30   \n",
       "3                            5                9                          15   \n",
       "4                            1                9                          13   \n",
       "\n",
       "   Confirmation__Weekday_(Mo_=_1)  Confirmation__Time  \\\n",
       "0                               5                   9   \n",
       "1                               5                  11   \n",
       "2                               2                  12   \n",
       "3                               5                   9   \n",
       "4                               1                   9   \n",
       "\n",
       "   Arrival_at_Pickup__Day_of_Month      ...        \\\n",
       "0                                9      ...         \n",
       "1                               12      ...         \n",
       "2                               30      ...         \n",
       "3                               15      ...         \n",
       "4                               13      ...         \n",
       "\n",
       "   Precipitation_in_millimeters  Pickup_Lat  Pickup_Long  Destination_Lat  \\\n",
       "0                           NaN   -1.317755    36.830370        -1.300406   \n",
       "1                           NaN   -1.351453    36.899315        -1.295004   \n",
       "2                           NaN   -1.308284    36.843419        -1.300921   \n",
       "3                           NaN   -1.281301    36.832396        -1.257147   \n",
       "4                           NaN   -1.266597    36.792118        -1.295041   \n",
       "\n",
       "   Destination_Long  Time_from_Pickup_to_Arrival  No_Of_Orders   Age  \\\n",
       "0         36.829741                          745          1637  1309   \n",
       "1         36.814358                         1993           396   339   \n",
       "2         36.828195                          455          1023   242   \n",
       "3         36.795063                         1341           886   283   \n",
       "4         36.809817                         1214          2311   872   \n",
       "\n",
       "   Average_Rating  No_of_Ratings  \n",
       "0            13.8            549  \n",
       "1            13.6             69  \n",
       "2            12.5            114  \n",
       "3            14.5            113  \n",
       "4            14.1            533  \n",
       "\n",
       "[5 rows x 30 columns]"
      ]
     },
     "execution_count": 30,
     "metadata": {},
     "output_type": "execute_result"
    }
   ],
   "source": [
    "dataset.head()"
   ]
  },
  {
   "cell_type": "code",
   "execution_count": 31,
   "metadata": {},
   "outputs": [
    {
     "data": {
      "text/plain": [
       "Index(['Vehicle_Type', 'Platform_Type', 'Personal_or_Business',\n",
       "       'Placement__Day_of_Month', 'Placement__Weekday_(Mo_=_1)',\n",
       "       'Placement__Time', 'Confirmation__Day_of_Month',\n",
       "       'Confirmation__Weekday_(Mo_=_1)', 'Confirmation__Time',\n",
       "       'Arrival_at_Pickup__Day_of_Month',\n",
       "       'Arrival_at_Pickup__Weekday_(Mo_=_1)', 'Arrival_at_Pickup__Time',\n",
       "       'Pickup__Day_of_Month', 'Pickup__Weekday_(Mo_=_1)', 'Pickup__Time',\n",
       "       'Arrival_at_Destination__Day_of_Month',\n",
       "       'Arrival_at_Destination__Weekday_(Mo_=_1)',\n",
       "       'Arrival_at_Destination__Time', 'Distance_(KM)', 'Temperature',\n",
       "       'Precipitation_in_millimeters', 'Pickup_Lat', 'Pickup_Long',\n",
       "       'Destination_Lat', 'Destination_Long', 'Time_from_Pickup_to_Arrival',\n",
       "       'No_Of_Orders', 'Age', 'Average_Rating', 'No_of_Ratings'],\n",
       "      dtype='object')"
      ]
     },
     "execution_count": 31,
     "metadata": {},
     "output_type": "execute_result"
    }
   ],
   "source": [
    "dataset.columns"
   ]
  },
  {
   "cell_type": "markdown",
   "metadata": {},
   "source": [
    "#### Check for outliers"
   ]
  },
  {
   "cell_type": "code",
   "execution_count": 32,
   "metadata": {},
   "outputs": [],
   "source": [
    "class ShowOutliers(BaseEstimator,TransformerMixin):\n",
    "    def __init__(self,categorical_time_attributes,categorical_attributes,num_attributes):\n",
    "        self.categorical_time_attributes = categorical_time_attributes\n",
    "        self.categorical_attributes = categorical_attributes\n",
    "        self.num_attributes = num_attributes\n",
    "    def fit(self,X,y=None):\n",
    "        return self\n",
    "    def transform(self,X,y=None):\n",
    "        numerical_attributes_comb = self.num_attributes + [i for i in self.categorical_time_attributes if i not in self.categorical_attributes]\n",
    "        fig,index = plt.subplots(figsize=(5,5),ncols=len(numerical_attributes_comb))\n",
    "        for i in range(len(numerical_attributes_comb)):\n",
    "            sb.set_style('whitegrid')\n",
    "            plt.grid(False)\n",
    "            index[i] = sb.boxplot(X[numerical_attributes_comb[i]])\n",
    "            plt.show()"
   ]
  },
  {
   "cell_type": "code",
   "execution_count": 33,
   "metadata": {},
   "outputs": [],
   "source": [
    "show_outliers = ShowOutliers(categorical_time_attributes,categorical_attributes,numerical_attributes)"
   ]
  },
  {
   "cell_type": "code",
   "execution_count": 34,
   "metadata": {},
   "outputs": [
    {
     "data": {
      "image/png": "[encoded data removed]",
      "text/plain": [
       "<Figure size 360x360 with 28 Axes>"
      ]
     },
     "metadata": {},
     "output_type": "display_data"
    },
    {
     "data": {
      "image/png": "[encoded data removed]",
      "text/plain": [
       "<Figure size 432x288 with 1 Axes>"
      ]
     },
     "metadata": {},
     "output_type": "display_data"
    },
    {
     "data": {
      "image/png": "[encoded data removed]",
      "text/plain": [
       "<Figure size 432x288 with 1 Axes>"
      ]
     },
     "metadata": {},
     "output_type": "display_data"
    },
    {
     "data": {
      "image/png": "[encoded data removed]",
      "text/plain": [
       "<Figure size 432x288 with 1 Axes>"
      ]
     },
     "metadata": {},
     "output_type": "display_data"
    },
    {
     "data": {
      "image/png": "[encoded data removed]",
      "text/plain": [
       "<Figure size 432x288 with 1 Axes>"
      ]
     },
     "metadata": {},
     "output_type": "display_data"
    },
    {
     "data": {
      "image/png": "[encoded data removed]",
      "text/plain": [
       "<Figure size 432x288 with 1 Axes>"
      ]
     },
     "metadata": {},
     "output_type": "display_data"
    },
    {
     "data": {
      "image/png": "[encoded data removed]",
      "text/plain": [
       "<Figure size 432x288 with 1 Axes>"
      ]
     },
     "metadata": {},
     "output_type": "display_data"
    },
    {
     "data": {
      "image/png": "[encoded data removed]",
      "text/plain": [
       "<Figure size 432x288 with 1 Axes>"
      ]
     },
     "metadata": {},
     "output_type": "display_data"
    },
    {
     "data": {
      "image/png": "[encoded data removed]",
      "text/plain": [
       "<Figure size 432x288 with 1 Axes>"
      ]
     },
     "metadata": {},
     "output_type": "display_data"
    },
    {
     "data": {
      "image/png": "[encoded data removed]",
      "text/plain": [
       "<Figure size 432x288 with 1 Axes>"
      ]
     },
     "metadata": {},
     "output_type": "display_data"
    },
    {
     "data": {
      "image/png": "[encoded data removed]",
      "text/plain": [
       "<Figure size 432x288 with 1 Axes>"
      ]
     },
     "metadata": {},
     "output_type": "display_data"
    },
    {
     "data": {
      "image/png": "[encoded data removed]",
      "text/plain": [
       "<Figure size 432x288 with 1 Axes>"
      ]
     },
     "metadata": {},
     "output_type": "display_data"
    },
    {
     "data": {
      "image/png": "[encoded data removed]",
      "text/plain": [
       "<Figure size 432x288 with 1 Axes>"
      ]
     },
     "metadata": {},
     "output_type": "display_data"
    },
    {
     "data": {
      "image/png": "[encoded data removed]",
      "text/plain": [
       "<Figure size 432x288 with 1 Axes>"
      ]
     },
     "metadata": {},
     "output_type": "display_data"
    },
    {
     "data": {
      "image/png": "[encoded data removed]",
      "text/plain": [
       "<Figure size 432x288 with 1 Axes>"
      ]
     },
     "metadata": {},
     "output_type": "display_data"
    },
    {
     "data": {
      "image/png": "[encoded data removed]",
      "text/plain": [
       "<Figure size 432x288 with 1 Axes>"
      ]
     },
     "metadata": {},
     "output_type": "display_data"
    },
    {
     "data": {
      "image/png": "[encoded data removed]",
      "text/plain": [
       "<Figure size 432x288 with 1 Axes>"
      ]
     },
     "metadata": {},
     "output_type": "display_data"
    },
    {
     "data": {
      "image/png": "[encoded data removed]",
      "text/plain": [
       "<Figure size 432x288 with 1 Axes>"
      ]
     },
     "metadata": {},
     "output_type": "display_data"
    },
    {
     "data": {
      "image/png": "[encoded data removed]",
      "text/plain": [
       "<Figure size 432x288 with 1 Axes>"
      ]
     },
     "metadata": {},
     "output_type": "display_data"
    },
    {
     "data": {
      "image/png": "[encoded data removed]",
      "text/plain": [
       "<Figure size 432x288 with 1 Axes>"
      ]
     },
     "metadata": {},
     "output_type": "display_data"
    },
    {
     "data": {
      "image/png": "[encoded data removed]",
      "text/plain": [
       "<Figure size 432x288 with 1 Axes>"
      ]
     },
     "metadata": {},
     "output_type": "display_data"
    },
    {
     "data": {
      "image/png": "[encoded data removed]",
      "text/plain": [
       "<Figure size 432x288 with 1 Axes>"
      ]
     },
     "metadata": {},
     "output_type": "display_data"
    },
    {
     "data": {
      "image/png": "[encoded data removed]",
      "text/plain": [
       "<Figure size 432x288 with 1 Axes>"
      ]
     },
     "metadata": {},
     "output_type": "display_data"
    },
    {
     "data": {
      "image/png": "[encoded data removed]",
      "text/plain": [
       "<Figure size 432x288 with 1 Axes>"
      ]
     },
     "metadata": {},
     "output_type": "display_data"
    },
    {
     "data": {
      "image/png": "[encoded data removed]",
      "text/plain": [
       "<Figure size 432x288 with 1 Axes>"
      ]
     },
     "metadata": {},
     "output_type": "display_data"
    },
    {
     "data": {
      "image/png": "[encoded data removed]",
      "text/plain": [
       "<Figure size 432x288 with 1 Axes>"
      ]
     },
     "metadata": {},
     "output_type": "display_data"
    },
    {
     "data": {
      "image/png": "[encoded data removed]",
      "text/plain": [
       "<Figure size 432x288 with 1 Axes>"
      ]
     },
     "metadata": {},
     "output_type": "display_data"
    },
    {
     "data": {
      "image/png": "[encoded data removed]",
      "text/plain": [
       "<Figure size 432x288 with 1 Axes>"
      ]
     },
     "metadata": {},
     "output_type": "display_data"
    }
   ],
   "source": [
    "show_outliers.fit_transform(dataset)"
   ]
  },
  {
   "cell_type": "markdown",
   "metadata": {},
   "source": [
    "#### Process Outliers"
   ]
  },
  {
   "cell_type": "code",
   "execution_count": 35,
   "metadata": {},
   "outputs": [],
   "source": [
    "class RemoveOutliers(BaseEstimator,TransformerMixin):\n",
    "    def __init__(self,categorical_time_attributes,categorical_attributes,num_attributes):\n",
    "        self.categorical_time_attributes = categorical_time_attributes\n",
    "        self.categorical_attributes = categorical_attributes\n",
    "        self.num_attributes = num_attributes\n",
    "    def fit(self,X,y=None):\n",
    "        return self\n",
    "    def transform(self,X,y=None):\n",
    "        numerical_attributes_comb = self.num_attributes + [i for i in self.categorical_time_attributes if i not in self.categorical_attributes]\n",
    "        for i in numerical_attributes_comb:\n",
    "            iqr = X[i].quantile(0.75) - X[i].quantile(0.25)\n",
    "            high_q = X[X[i]>X[i].quantile(0.75)+iqr*1.5]\n",
    "            low_q = X[X[i]<X[i].quantile(0.25)-iqr*1.5]\n",
    "            X = X.drop(high_q.index)\n",
    "            X = X.drop(low_q.index)\n",
    "        return X"
   ]
  },
  {
   "cell_type": "code",
   "execution_count": 36,
   "metadata": {},
   "outputs": [],
   "source": [
    "remove_outliers = RemoveOutliers(categorical_time_attributes,categorical_attributes,numerical_attributes)"
   ]
  },
  {
   "cell_type": "code",
   "execution_count": 37,
   "metadata": {},
   "outputs": [],
   "source": [
    "dataset = remove_outliers.fit_transform(dataset)"
   ]
  },
  {
   "cell_type": "code",
   "execution_count": 38,
   "metadata": {},
   "outputs": [
    {
     "data": {
      "image/png": "[encoded data removed]",
      "text/plain": [
       "<Figure size 360x360 with 28 Axes>"
      ]
     },
     "metadata": {},
     "output_type": "display_data"
    },
    {
     "data": {
      "image/png": "[encoded data removed]",
      "text/plain": [
       "<Figure size 432x288 with 1 Axes>"
      ]
     },
     "metadata": {},
     "output_type": "display_data"
    },
    {
     "data": {
      "image/png": "[encoded data removed]",
      "text/plain": [
       "<Figure size 432x288 with 1 Axes>"
      ]
     },
     "metadata": {},
     "output_type": "display_data"
    },
    {
     "data": {
      "image/png": "[encoded data removed]",
      "text/plain": [
       "<Figure size 432x288 with 1 Axes>"
      ]
     },
     "metadata": {},
     "output_type": "display_data"
    },
    {
     "data": {
      "image/png": "[encoded data removed]",
      "text/plain": [
       "<Figure size 432x288 with 1 Axes>"
      ]
     },
     "metadata": {},
     "output_type": "display_data"
    },
    {
     "data": {
      "image/png": "[encoded data removed]",
      "text/plain": [
       "<Figure size 432x288 with 1 Axes>"
      ]
     },
     "metadata": {},
     "output_type": "display_data"
    },
    {
     "data": {
      "image/png": "[encoded data removed]",
      "text/plain": [
       "<Figure size 432x288 with 1 Axes>"
      ]
     },
     "metadata": {},
     "output_type": "display_data"
    },
    {
     "data": {
      "image/png": "[encoded data removed]",
      "text/plain": [
       "<Figure size 432x288 with 1 Axes>"
      ]
     },
     "metadata": {},
     "output_type": "display_data"
    },
    {
     "data": {
      "image/png": "[encoded data removed]",
      "text/plain": [
       "<Figure size 432x288 with 1 Axes>"
      ]
     },
     "metadata": {},
     "output_type": "display_data"
    },
    {
     "data": {
      "image/png": "[encoded data removed]",
      "text/plain": [
       "<Figure size 432x288 with 1 Axes>"
      ]
     },
     "metadata": {},
     "output_type": "display_data"
    },
    {
     "data": {
      "image/png": "[encoded data removed]",
      "text/plain": [
       "<Figure size 432x288 with 1 Axes>"
      ]
     },
     "metadata": {},
     "output_type": "display_data"
    },
    {
     "data": {
      "image/png": "[encoded data removed]",
      "text/plain": [
       "<Figure size 432x288 with 1 Axes>"
      ]
     },
     "metadata": {},
     "output_type": "display_data"
    },
    {
     "data": {
      "image/png": "[encoded data removed]",
      "text/plain": [
       "<Figure size 432x288 with 1 Axes>"
      ]
     },
     "metadata": {},
     "output_type": "display_data"
    },
    {
     "data": {
      "image/png": "[encoded data removed]",
      "text/plain": [
       "<Figure size 432x288 with 1 Axes>"
      ]
     },
     "metadata": {},
     "output_type": "display_data"
    },
    {
     "data": {
      "image/png": "[encoded data removed]",
      "text/plain": [
       "<Figure size 432x288 with 1 Axes>"
      ]
     },
     "metadata": {},
     "output_type": "display_data"
    },
    {
     "data": {
      "image/png": "[encoded data removed]",
      "text/plain": [
       "<Figure size 432x288 with 1 Axes>"
      ]
     },
     "metadata": {},
     "output_type": "display_data"
    },
    {
     "data": {
      "image/png": "[encoded data removed]",
      "text/plain": [
       "<Figure size 432x288 with 1 Axes>"
      ]
     },
     "metadata": {},
     "output_type": "display_data"
    },
    {
     "data": {
      "image/png": "[encoded data removed]",
      "text/plain": [
       "<Figure size 432x288 with 1 Axes>"
      ]
     },
     "metadata": {},
     "output_type": "display_data"
    },
    {
     "data": {
      "image/png": "[encoded data removed]",
      "text/plain": [
       "<Figure size 432x288 with 1 Axes>"
      ]
     },
     "metadata": {},
     "output_type": "display_data"
    },
    {
     "data": {
      "image/png": "[encoded data removed]",
      "text/plain": [
       "<Figure size 432x288 with 1 Axes>"
      ]
     },
     "metadata": {},
     "output_type": "display_data"
    },
    {
     "data": {
      "image/png": "[encoded data removed]",
      "text/plain": [
       "<Figure size 432x288 with 1 Axes>"
      ]
     },
     "metadata": {},
     "output_type": "display_data"
    },
    {
     "data": {
      "image/png": "[encoded data removed]",
      "text/plain": [
       "<Figure size 432x288 with 1 Axes>"
      ]
     },
     "metadata": {},
     "output_type": "display_data"
    },
    {
     "data": {
      "image/png": "[encoded data removed]",
      "text/plain": [
       "<Figure size 432x288 with 1 Axes>"
      ]
     },
     "metadata": {},
     "output_type": "display_data"
    },
    {
     "data": {
      "image/png": "[encoded data removed]",
      "text/plain": [
       "<Figure size 432x288 with 1 Axes>"
      ]
     },
     "metadata": {},
     "output_type": "display_data"
    },
    {
     "data": {
      "image/png": "[encoded data removed]",
      "text/plain": [
       "<Figure size 432x288 with 1 Axes>"
      ]
     },
     "metadata": {},
     "output_type": "display_data"
    },
    {
     "data": {
      "image/png": "[encoded data removed]",
      "text/plain": [
       "<Figure size 432x288 with 1 Axes>"
      ]
     },
     "metadata": {},
     "output_type": "display_data"
    },
    {
     "data": {
      "image/png": "[encoded data removed]",
      "text/plain": [
       "<Figure size 432x288 with 1 Axes>"
      ]
     },
     "metadata": {},
     "output_type": "display_data"
    },
    {
     "data": {
      "image/png": "[encoded data removed]",
      "text/plain": [
       "<Figure size 432x288 with 1 Axes>"
      ]
     },
     "metadata": {},
     "output_type": "display_data"
    }
   ],
   "source": [
    "show_outliers.fit_transform(dataset)"
   ]
  },
  {
   "cell_type": "markdown",
   "metadata": {},
   "source": [
    "#### Process categorical attributes (combining numerical and time seies)"
   ]
  },
  {
   "cell_type": "code",
   "execution_count": 39,
   "metadata": {},
   "outputs": [
    {
     "data": {
      "text/html": [
       "<div>\n",
       "<style scoped>\n",
       "    .dataframe tbody tr th:only-of-type {\n",
       "        vertical-align: middle;\n",
       "    }\n",
       "\n",
       "    .dataframe tbody tr th {\n",
       "        vertical-align: top;\n",
       "    }\n",
       "\n",
       "    .dataframe thead th {\n",
       "        text-align: right;\n",
       "    }\n",
       "</style>\n",
       "<table border=\"1\" class=\"dataframe\">\n",
       "  <thead>\n",
       "    <tr style=\"text-align: right;\">\n",
       "      <th></th>\n",
       "      <th>Vehicle_Type</th>\n",
       "      <th>Platform_Type</th>\n",
       "      <th>Personal_or_Business</th>\n",
       "      <th>Placement__Day_of_Month</th>\n",
       "      <th>Placement__Weekday_(Mo_=_1)</th>\n",
       "      <th>Placement__Time</th>\n",
       "      <th>Confirmation__Day_of_Month</th>\n",
       "      <th>Confirmation__Weekday_(Mo_=_1)</th>\n",
       "      <th>Confirmation__Time</th>\n",
       "      <th>Arrival_at_Pickup__Day_of_Month</th>\n",
       "      <th>...</th>\n",
       "      <th>Precipitation_in_millimeters</th>\n",
       "      <th>Pickup_Lat</th>\n",
       "      <th>Pickup_Long</th>\n",
       "      <th>Destination_Lat</th>\n",
       "      <th>Destination_Long</th>\n",
       "      <th>Time_from_Pickup_to_Arrival</th>\n",
       "      <th>No_Of_Orders</th>\n",
       "      <th>Age</th>\n",
       "      <th>Average_Rating</th>\n",
       "      <th>No_of_Ratings</th>\n",
       "    </tr>\n",
       "  </thead>\n",
       "  <tbody>\n",
       "    <tr>\n",
       "      <th>0</th>\n",
       "      <td>0</td>\n",
       "      <td>3</td>\n",
       "      <td>0</td>\n",
       "      <td>9</td>\n",
       "      <td>5</td>\n",
       "      <td>9</td>\n",
       "      <td>9</td>\n",
       "      <td>5</td>\n",
       "      <td>9</td>\n",
       "      <td>9</td>\n",
       "      <td>...</td>\n",
       "      <td>NaN</td>\n",
       "      <td>-1.317755</td>\n",
       "      <td>36.830370</td>\n",
       "      <td>-1.300406</td>\n",
       "      <td>36.829741</td>\n",
       "      <td>745</td>\n",
       "      <td>1637</td>\n",
       "      <td>1309</td>\n",
       "      <td>13.8</td>\n",
       "      <td>549</td>\n",
       "    </tr>\n",
       "    <tr>\n",
       "      <th>1</th>\n",
       "      <td>0</td>\n",
       "      <td>3</td>\n",
       "      <td>1</td>\n",
       "      <td>12</td>\n",
       "      <td>5</td>\n",
       "      <td>11</td>\n",
       "      <td>12</td>\n",
       "      <td>5</td>\n",
       "      <td>11</td>\n",
       "      <td>12</td>\n",
       "      <td>...</td>\n",
       "      <td>NaN</td>\n",
       "      <td>-1.351453</td>\n",
       "      <td>36.899315</td>\n",
       "      <td>-1.295004</td>\n",
       "      <td>36.814358</td>\n",
       "      <td>1993</td>\n",
       "      <td>396</td>\n",
       "      <td>339</td>\n",
       "      <td>13.6</td>\n",
       "      <td>69</td>\n",
       "    </tr>\n",
       "    <tr>\n",
       "      <th>3</th>\n",
       "      <td>0</td>\n",
       "      <td>3</td>\n",
       "      <td>0</td>\n",
       "      <td>15</td>\n",
       "      <td>5</td>\n",
       "      <td>9</td>\n",
       "      <td>15</td>\n",
       "      <td>5</td>\n",
       "      <td>9</td>\n",
       "      <td>15</td>\n",
       "      <td>...</td>\n",
       "      <td>NaN</td>\n",
       "      <td>-1.281301</td>\n",
       "      <td>36.832396</td>\n",
       "      <td>-1.257147</td>\n",
       "      <td>36.795063</td>\n",
       "      <td>1341</td>\n",
       "      <td>886</td>\n",
       "      <td>283</td>\n",
       "      <td>14.5</td>\n",
       "      <td>113</td>\n",
       "    </tr>\n",
       "    <tr>\n",
       "      <th>6</th>\n",
       "      <td>0</td>\n",
       "      <td>3</td>\n",
       "      <td>0</td>\n",
       "      <td>9</td>\n",
       "      <td>5</td>\n",
       "      <td>9</td>\n",
       "      <td>9</td>\n",
       "      <td>5</td>\n",
       "      <td>9</td>\n",
       "      <td>9</td>\n",
       "      <td>...</td>\n",
       "      <td>NaN</td>\n",
       "      <td>-1.279395</td>\n",
       "      <td>36.825364</td>\n",
       "      <td>-1.276574</td>\n",
       "      <td>36.851365</td>\n",
       "      <td>1380</td>\n",
       "      <td>288</td>\n",
       "      <td>556</td>\n",
       "      <td>13.7</td>\n",
       "      <td>27</td>\n",
       "    </tr>\n",
       "    <tr>\n",
       "      <th>8</th>\n",
       "      <td>0</td>\n",
       "      <td>3</td>\n",
       "      <td>0</td>\n",
       "      <td>30</td>\n",
       "      <td>2</td>\n",
       "      <td>11</td>\n",
       "      <td>30</td>\n",
       "      <td>2</td>\n",
       "      <td>11</td>\n",
       "      <td>30</td>\n",
       "      <td>...</td>\n",
       "      <td>NaN</td>\n",
       "      <td>-1.255189</td>\n",
       "      <td>36.782203</td>\n",
       "      <td>-1.300255</td>\n",
       "      <td>36.825657</td>\n",
       "      <td>3398</td>\n",
       "      <td>162</td>\n",
       "      <td>237</td>\n",
       "      <td>15.0</td>\n",
       "      <td>14</td>\n",
       "    </tr>\n",
       "  </tbody>\n",
       "</table>\n",
       "<p>5 rows × 30 columns</p>\n",
       "</div>"
      ],
      "text/plain": [
       "   Vehicle_Type  Platform_Type  Personal_or_Business  Placement__Day_of_Month  \\\n",
       "0             0              3                     0                        9   \n",
       "1             0              3                     1                       12   \n",
       "3             0              3                     0                       15   \n",
       "6             0              3                     0                        9   \n",
       "8             0              3                     0                       30   \n",
       "\n",
       "   Placement__Weekday_(Mo_=_1)  Placement__Time  Confirmation__Day_of_Month  \\\n",
       "0                            5                9                           9   \n",
       "1                            5               11                          12   \n",
       "3                            5                9                          15   \n",
       "6                            5                9                           9   \n",
       "8                            2               11                          30   \n",
       "\n",
       "   Confirmation__Weekday_(Mo_=_1)  Confirmation__Time  \\\n",
       "0                               5                   9   \n",
       "1                               5                  11   \n",
       "3                               5                   9   \n",
       "6                               5                   9   \n",
       "8                               2                  11   \n",
       "\n",
       "   Arrival_at_Pickup__Day_of_Month      ...        \\\n",
       "0                                9      ...         \n",
       "1                               12      ...         \n",
       "3                               15      ...         \n",
       "6                                9      ...         \n",
       "8                               30      ...         \n",
       "\n",
       "   Precipitation_in_millimeters  Pickup_Lat  Pickup_Long  Destination_Lat  \\\n",
       "0                           NaN   -1.317755    36.830370        -1.300406   \n",
       "1                           NaN   -1.351453    36.899315        -1.295004   \n",
       "3                           NaN   -1.281301    36.832396        -1.257147   \n",
       "6                           NaN   -1.279395    36.825364        -1.276574   \n",
       "8                           NaN   -1.255189    36.782203        -1.300255   \n",
       "\n",
       "   Destination_Long  Time_from_Pickup_to_Arrival  No_Of_Orders   Age  \\\n",
       "0         36.829741                          745          1637  1309   \n",
       "1         36.814358                         1993           396   339   \n",
       "3         36.795063                         1341           886   283   \n",
       "6         36.851365                         1380           288   556   \n",
       "8         36.825657                         3398           162   237   \n",
       "\n",
       "   Average_Rating  No_of_Ratings  \n",
       "0            13.8            549  \n",
       "1            13.6             69  \n",
       "3            14.5            113  \n",
       "6            13.7             27  \n",
       "8            15.0             14  \n",
       "\n",
       "[5 rows x 30 columns]"
      ]
     },
     "execution_count": 39,
     "metadata": {},
     "output_type": "execute_result"
    }
   ],
   "source": [
    "dataset.head()"
   ]
  },
  {
   "cell_type": "markdown",
   "metadata": {},
   "source": [
    "#### Check correlation"
   ]
  },
  {
   "cell_type": "code",
   "execution_count": 40,
   "metadata": {},
   "outputs": [],
   "source": [
    "correlation = dataset.corr()"
   ]
  },
  {
   "cell_type": "code",
   "execution_count": 41,
   "metadata": {},
   "outputs": [
    {
     "data": {
      "text/plain": [
       "Time_from_Pickup_to_Arrival                 1.000000\n",
       "Distance_(KM)                               0.570675\n",
       "Precipitation_in_millimeters                0.084295\n",
       "Arrival_at_Destination__Time                0.073775\n",
       "Pickup_Long                                 0.060443\n",
       "Personal_or_Business                        0.023558\n",
       "Destination_Long                            0.016372\n",
       "Temperature                                 0.010078\n",
       "Confirmation__Weekday_(Mo_=_1)              0.007628\n",
       "Arrival_at_Destination__Weekday_(Mo_=_1)    0.007628\n",
       "Pickup__Weekday_(Mo_=_1)                    0.007628\n",
       "Arrival_at_Pickup__Weekday_(Mo_=_1)         0.007628\n",
       "Placement__Weekday_(Mo_=_1)                 0.007442\n",
       "Arrival_at_Pickup__Time                     0.003734\n",
       "Confirmation__Time                         -0.006234\n",
       "Pickup__Time                               -0.007014\n",
       "Confirmation__Day_of_Month                 -0.011923\n",
       "Arrival_at_Pickup__Day_of_Month            -0.011923\n",
       "Arrival_at_Destination__Day_of_Month       -0.011923\n",
       "Pickup__Day_of_Month                       -0.011923\n",
       "Placement__Day_of_Month                    -0.011955\n",
       "Placement__Time                            -0.013221\n",
       "Average_Rating                             -0.032140\n",
       "Age                                        -0.034328\n",
       "Pickup_Lat                                 -0.058868\n",
       "No_of_Ratings                              -0.062000\n",
       "Destination_Lat                            -0.071844\n",
       "No_Of_Orders                               -0.072066\n",
       "Vehicle_Type                                     NaN\n",
       "Platform_Type                                    NaN\n",
       "Name: Time_from_Pickup_to_Arrival, dtype: float64"
      ]
     },
     "execution_count": 41,
     "metadata": {},
     "output_type": "execute_result"
    }
   ],
   "source": [
    "correlation['Time_from_Pickup_to_Arrival'].sort_values(ascending=False)"
   ]
  },
  {
   "cell_type": "code",
   "execution_count": 42,
   "metadata": {},
   "outputs": [
    {
     "data": {
      "text/html": [
       "<div>\n",
       "<style scoped>\n",
       "    .dataframe tbody tr th:only-of-type {\n",
       "        vertical-align: middle;\n",
       "    }\n",
       "\n",
       "    .dataframe tbody tr th {\n",
       "        vertical-align: top;\n",
       "    }\n",
       "\n",
       "    .dataframe thead th {\n",
       "        text-align: right;\n",
       "    }\n",
       "</style>\n",
       "<table border=\"1\" class=\"dataframe\">\n",
       "  <thead>\n",
       "    <tr style=\"text-align: right;\">\n",
       "      <th></th>\n",
       "      <th>Vehicle_Type</th>\n",
       "      <th>Platform_Type</th>\n",
       "      <th>Personal_or_Business</th>\n",
       "      <th>Placement__Day_of_Month</th>\n",
       "      <th>Placement__Weekday_(Mo_=_1)</th>\n",
       "      <th>Placement__Time</th>\n",
       "      <th>Confirmation__Day_of_Month</th>\n",
       "      <th>Confirmation__Weekday_(Mo_=_1)</th>\n",
       "      <th>Confirmation__Time</th>\n",
       "      <th>Arrival_at_Pickup__Day_of_Month</th>\n",
       "      <th>...</th>\n",
       "      <th>Precipitation_in_millimeters</th>\n",
       "      <th>Pickup_Lat</th>\n",
       "      <th>Pickup_Long</th>\n",
       "      <th>Destination_Lat</th>\n",
       "      <th>Destination_Long</th>\n",
       "      <th>Time_from_Pickup_to_Arrival</th>\n",
       "      <th>No_Of_Orders</th>\n",
       "      <th>Age</th>\n",
       "      <th>Average_Rating</th>\n",
       "      <th>No_of_Ratings</th>\n",
       "    </tr>\n",
       "  </thead>\n",
       "  <tbody>\n",
       "    <tr>\n",
       "      <th>0</th>\n",
       "      <td>0</td>\n",
       "      <td>3</td>\n",
       "      <td>0</td>\n",
       "      <td>9</td>\n",
       "      <td>5</td>\n",
       "      <td>9</td>\n",
       "      <td>9</td>\n",
       "      <td>5</td>\n",
       "      <td>9</td>\n",
       "      <td>9</td>\n",
       "      <td>...</td>\n",
       "      <td>NaN</td>\n",
       "      <td>-1.317755</td>\n",
       "      <td>36.830370</td>\n",
       "      <td>-1.300406</td>\n",
       "      <td>36.829741</td>\n",
       "      <td>745</td>\n",
       "      <td>1637</td>\n",
       "      <td>1309</td>\n",
       "      <td>13.8</td>\n",
       "      <td>549</td>\n",
       "    </tr>\n",
       "    <tr>\n",
       "      <th>1</th>\n",
       "      <td>0</td>\n",
       "      <td>3</td>\n",
       "      <td>1</td>\n",
       "      <td>12</td>\n",
       "      <td>5</td>\n",
       "      <td>11</td>\n",
       "      <td>12</td>\n",
       "      <td>5</td>\n",
       "      <td>11</td>\n",
       "      <td>12</td>\n",
       "      <td>...</td>\n",
       "      <td>NaN</td>\n",
       "      <td>-1.351453</td>\n",
       "      <td>36.899315</td>\n",
       "      <td>-1.295004</td>\n",
       "      <td>36.814358</td>\n",
       "      <td>1993</td>\n",
       "      <td>396</td>\n",
       "      <td>339</td>\n",
       "      <td>13.6</td>\n",
       "      <td>69</td>\n",
       "    </tr>\n",
       "    <tr>\n",
       "      <th>3</th>\n",
       "      <td>0</td>\n",
       "      <td>3</td>\n",
       "      <td>0</td>\n",
       "      <td>15</td>\n",
       "      <td>5</td>\n",
       "      <td>9</td>\n",
       "      <td>15</td>\n",
       "      <td>5</td>\n",
       "      <td>9</td>\n",
       "      <td>15</td>\n",
       "      <td>...</td>\n",
       "      <td>NaN</td>\n",
       "      <td>-1.281301</td>\n",
       "      <td>36.832396</td>\n",
       "      <td>-1.257147</td>\n",
       "      <td>36.795063</td>\n",
       "      <td>1341</td>\n",
       "      <td>886</td>\n",
       "      <td>283</td>\n",
       "      <td>14.5</td>\n",
       "      <td>113</td>\n",
       "    </tr>\n",
       "    <tr>\n",
       "      <th>6</th>\n",
       "      <td>0</td>\n",
       "      <td>3</td>\n",
       "      <td>0</td>\n",
       "      <td>9</td>\n",
       "      <td>5</td>\n",
       "      <td>9</td>\n",
       "      <td>9</td>\n",
       "      <td>5</td>\n",
       "      <td>9</td>\n",
       "      <td>9</td>\n",
       "      <td>...</td>\n",
       "      <td>NaN</td>\n",
       "      <td>-1.279395</td>\n",
       "      <td>36.825364</td>\n",
       "      <td>-1.276574</td>\n",
       "      <td>36.851365</td>\n",
       "      <td>1380</td>\n",
       "      <td>288</td>\n",
       "      <td>556</td>\n",
       "      <td>13.7</td>\n",
       "      <td>27</td>\n",
       "    </tr>\n",
       "    <tr>\n",
       "      <th>8</th>\n",
       "      <td>0</td>\n",
       "      <td>3</td>\n",
       "      <td>0</td>\n",
       "      <td>30</td>\n",
       "      <td>2</td>\n",
       "      <td>11</td>\n",
       "      <td>30</td>\n",
       "      <td>2</td>\n",
       "      <td>11</td>\n",
       "      <td>30</td>\n",
       "      <td>...</td>\n",
       "      <td>NaN</td>\n",
       "      <td>-1.255189</td>\n",
       "      <td>36.782203</td>\n",
       "      <td>-1.300255</td>\n",
       "      <td>36.825657</td>\n",
       "      <td>3398</td>\n",
       "      <td>162</td>\n",
       "      <td>237</td>\n",
       "      <td>15.0</td>\n",
       "      <td>14</td>\n",
       "    </tr>\n",
       "  </tbody>\n",
       "</table>\n",
       "<p>5 rows × 30 columns</p>\n",
       "</div>"
      ],
      "text/plain": [
       "   Vehicle_Type  Platform_Type  Personal_or_Business  Placement__Day_of_Month  \\\n",
       "0             0              3                     0                        9   \n",
       "1             0              3                     1                       12   \n",
       "3             0              3                     0                       15   \n",
       "6             0              3                     0                        9   \n",
       "8             0              3                     0                       30   \n",
       "\n",
       "   Placement__Weekday_(Mo_=_1)  Placement__Time  Confirmation__Day_of_Month  \\\n",
       "0                            5                9                           9   \n",
       "1                            5               11                          12   \n",
       "3                            5                9                          15   \n",
       "6                            5                9                           9   \n",
       "8                            2               11                          30   \n",
       "\n",
       "   Confirmation__Weekday_(Mo_=_1)  Confirmation__Time  \\\n",
       "0                               5                   9   \n",
       "1                               5                  11   \n",
       "3                               5                   9   \n",
       "6                               5                   9   \n",
       "8                               2                  11   \n",
       "\n",
       "   Arrival_at_Pickup__Day_of_Month      ...        \\\n",
       "0                                9      ...         \n",
       "1                               12      ...         \n",
       "3                               15      ...         \n",
       "6                                9      ...         \n",
       "8                               30      ...         \n",
       "\n",
       "   Precipitation_in_millimeters  Pickup_Lat  Pickup_Long  Destination_Lat  \\\n",
       "0                           NaN   -1.317755    36.830370        -1.300406   \n",
       "1                           NaN   -1.351453    36.899315        -1.295004   \n",
       "3                           NaN   -1.281301    36.832396        -1.257147   \n",
       "6                           NaN   -1.279395    36.825364        -1.276574   \n",
       "8                           NaN   -1.255189    36.782203        -1.300255   \n",
       "\n",
       "   Destination_Long  Time_from_Pickup_to_Arrival  No_Of_Orders   Age  \\\n",
       "0         36.829741                          745          1637  1309   \n",
       "1         36.814358                         1993           396   339   \n",
       "3         36.795063                         1341           886   283   \n",
       "6         36.851365                         1380           288   556   \n",
       "8         36.825657                         3398           162   237   \n",
       "\n",
       "   Average_Rating  No_of_Ratings  \n",
       "0            13.8            549  \n",
       "1            13.6             69  \n",
       "3            14.5            113  \n",
       "6            13.7             27  \n",
       "8            15.0             14  \n",
       "\n",
       "[5 rows x 30 columns]"
      ]
     },
     "execution_count": 42,
     "metadata": {},
     "output_type": "execute_result"
    }
   ],
   "source": [
    "dataset.head()"
   ]
  },
  {
   "cell_type": "code",
   "execution_count": 43,
   "metadata": {},
   "outputs": [],
   "source": [
    "correlation1 = dataset.corr()"
   ]
  },
  {
   "cell_type": "code",
   "execution_count": 44,
   "metadata": {},
   "outputs": [
    {
     "data": {
      "text/plain": [
       "Time_from_Pickup_to_Arrival                 1.000000\n",
       "Distance_(KM)                               0.570675\n",
       "Precipitation_in_millimeters                0.084295\n",
       "Arrival_at_Destination__Time                0.073775\n",
       "Pickup_Long                                 0.060443\n",
       "Personal_or_Business                        0.023558\n",
       "Destination_Long                            0.016372\n",
       "Temperature                                 0.010078\n",
       "Confirmation__Weekday_(Mo_=_1)              0.007628\n",
       "Arrival_at_Destination__Weekday_(Mo_=_1)    0.007628\n",
       "Pickup__Weekday_(Mo_=_1)                    0.007628\n",
       "Arrival_at_Pickup__Weekday_(Mo_=_1)         0.007628\n",
       "Placement__Weekday_(Mo_=_1)                 0.007442\n",
       "Arrival_at_Pickup__Time                     0.003734\n",
       "Confirmation__Time                         -0.006234\n",
       "Pickup__Time                               -0.007014\n",
       "Confirmation__Day_of_Month                 -0.011923\n",
       "Arrival_at_Pickup__Day_of_Month            -0.011923\n",
       "Arrival_at_Destination__Day_of_Month       -0.011923\n",
       "Pickup__Day_of_Month                       -0.011923\n",
       "Placement__Day_of_Month                    -0.011955\n",
       "Placement__Time                            -0.013221\n",
       "Average_Rating                             -0.032140\n",
       "Age                                        -0.034328\n",
       "Pickup_Lat                                 -0.058868\n",
       "No_of_Ratings                              -0.062000\n",
       "Destination_Lat                            -0.071844\n",
       "No_Of_Orders                               -0.072066\n",
       "Vehicle_Type                                     NaN\n",
       "Platform_Type                                    NaN\n",
       "Name: Time_from_Pickup_to_Arrival, dtype: float64"
      ]
     },
     "execution_count": 44,
     "metadata": {},
     "output_type": "execute_result"
    }
   ],
   "source": [
    "correlation1['Time_from_Pickup_to_Arrival'].sort_values(ascending=False)"
   ]
  },
  {
   "cell_type": "code",
   "execution_count": 45,
   "metadata": {},
   "outputs": [],
   "source": [
    "class RemoveUncorrelated(BaseEstimator,TransformerMixin):\n",
    "    def __init__(self,column_names):\n",
    "        self.column_names =column_names\n",
    "    def fit(self,X,y=None):\n",
    "        return self\n",
    "    def transform(self,X,y=None):\n",
    "        X = X.drop(self.column_names,axis=1)\n",
    "        return X"
   ]
  },
  {
   "cell_type": "code",
   "execution_count": 46,
   "metadata": {},
   "outputs": [],
   "source": [
    "uncorrelated_cols = ['Average_Rating','Confirmation__Time','Destination_Long','Placement__Time','Pickup_Lat','Age','No_of_Ratings','No_Of_Orders','Destination_Lat']"
   ]
  },
  {
   "cell_type": "code",
   "execution_count": 47,
   "metadata": {},
   "outputs": [],
   "source": [
    "remove_uncorrelated = RemoveUncorrelated(column_names=uncorrelated_cols)\n",
    "dataset = remove_uncorrelated.fit_transform(dataset)"
   ]
  },
  {
   "cell_type": "code",
   "execution_count": 48,
   "metadata": {},
   "outputs": [
    {
     "data": {
      "text/html": [
       "<div>\n",
       "<style scoped>\n",
       "    .dataframe tbody tr th:only-of-type {\n",
       "        vertical-align: middle;\n",
       "    }\n",
       "\n",
       "    .dataframe tbody tr th {\n",
       "        vertical-align: top;\n",
       "    }\n",
       "\n",
       "    .dataframe thead th {\n",
       "        text-align: right;\n",
       "    }\n",
       "</style>\n",
       "<table border=\"1\" class=\"dataframe\">\n",
       "  <thead>\n",
       "    <tr style=\"text-align: right;\">\n",
       "      <th></th>\n",
       "      <th>Vehicle_Type</th>\n",
       "      <th>Platform_Type</th>\n",
       "      <th>Personal_or_Business</th>\n",
       "      <th>Placement__Day_of_Month</th>\n",
       "      <th>Placement__Weekday_(Mo_=_1)</th>\n",
       "      <th>Confirmation__Day_of_Month</th>\n",
       "      <th>Confirmation__Weekday_(Mo_=_1)</th>\n",
       "      <th>Arrival_at_Pickup__Day_of_Month</th>\n",
       "      <th>Arrival_at_Pickup__Weekday_(Mo_=_1)</th>\n",
       "      <th>Arrival_at_Pickup__Time</th>\n",
       "      <th>...</th>\n",
       "      <th>Pickup__Weekday_(Mo_=_1)</th>\n",
       "      <th>Pickup__Time</th>\n",
       "      <th>Arrival_at_Destination__Day_of_Month</th>\n",
       "      <th>Arrival_at_Destination__Weekday_(Mo_=_1)</th>\n",
       "      <th>Arrival_at_Destination__Time</th>\n",
       "      <th>Distance_(KM)</th>\n",
       "      <th>Temperature</th>\n",
       "      <th>Precipitation_in_millimeters</th>\n",
       "      <th>Pickup_Long</th>\n",
       "      <th>Time_from_Pickup_to_Arrival</th>\n",
       "    </tr>\n",
       "  </thead>\n",
       "  <tbody>\n",
       "    <tr>\n",
       "      <th>0</th>\n",
       "      <td>0</td>\n",
       "      <td>3</td>\n",
       "      <td>0</td>\n",
       "      <td>9</td>\n",
       "      <td>5</td>\n",
       "      <td>9</td>\n",
       "      <td>5</td>\n",
       "      <td>9</td>\n",
       "      <td>5</td>\n",
       "      <td>10</td>\n",
       "      <td>...</td>\n",
       "      <td>5</td>\n",
       "      <td>10</td>\n",
       "      <td>9</td>\n",
       "      <td>5</td>\n",
       "      <td>10</td>\n",
       "      <td>4</td>\n",
       "      <td>20.4</td>\n",
       "      <td>NaN</td>\n",
       "      <td>36.830370</td>\n",
       "      <td>745</td>\n",
       "    </tr>\n",
       "    <tr>\n",
       "      <th>1</th>\n",
       "      <td>0</td>\n",
       "      <td>3</td>\n",
       "      <td>1</td>\n",
       "      <td>12</td>\n",
       "      <td>5</td>\n",
       "      <td>12</td>\n",
       "      <td>5</td>\n",
       "      <td>12</td>\n",
       "      <td>5</td>\n",
       "      <td>11</td>\n",
       "      <td>...</td>\n",
       "      <td>5</td>\n",
       "      <td>11</td>\n",
       "      <td>12</td>\n",
       "      <td>5</td>\n",
       "      <td>12</td>\n",
       "      <td>16</td>\n",
       "      <td>26.4</td>\n",
       "      <td>NaN</td>\n",
       "      <td>36.899315</td>\n",
       "      <td>1993</td>\n",
       "    </tr>\n",
       "    <tr>\n",
       "      <th>3</th>\n",
       "      <td>0</td>\n",
       "      <td>3</td>\n",
       "      <td>0</td>\n",
       "      <td>15</td>\n",
       "      <td>5</td>\n",
       "      <td>15</td>\n",
       "      <td>5</td>\n",
       "      <td>15</td>\n",
       "      <td>5</td>\n",
       "      <td>9</td>\n",
       "      <td>...</td>\n",
       "      <td>5</td>\n",
       "      <td>9</td>\n",
       "      <td>15</td>\n",
       "      <td>5</td>\n",
       "      <td>10</td>\n",
       "      <td>9</td>\n",
       "      <td>19.2</td>\n",
       "      <td>NaN</td>\n",
       "      <td>36.832396</td>\n",
       "      <td>1341</td>\n",
       "    </tr>\n",
       "    <tr>\n",
       "      <th>6</th>\n",
       "      <td>0</td>\n",
       "      <td>3</td>\n",
       "      <td>0</td>\n",
       "      <td>9</td>\n",
       "      <td>5</td>\n",
       "      <td>9</td>\n",
       "      <td>5</td>\n",
       "      <td>9</td>\n",
       "      <td>5</td>\n",
       "      <td>9</td>\n",
       "      <td>...</td>\n",
       "      <td>5</td>\n",
       "      <td>9</td>\n",
       "      <td>9</td>\n",
       "      <td>5</td>\n",
       "      <td>10</td>\n",
       "      <td>5</td>\n",
       "      <td>20.3</td>\n",
       "      <td>NaN</td>\n",
       "      <td>36.825364</td>\n",
       "      <td>1380</td>\n",
       "    </tr>\n",
       "    <tr>\n",
       "      <th>8</th>\n",
       "      <td>0</td>\n",
       "      <td>3</td>\n",
       "      <td>0</td>\n",
       "      <td>30</td>\n",
       "      <td>2</td>\n",
       "      <td>30</td>\n",
       "      <td>2</td>\n",
       "      <td>30</td>\n",
       "      <td>2</td>\n",
       "      <td>12</td>\n",
       "      <td>...</td>\n",
       "      <td>2</td>\n",
       "      <td>12</td>\n",
       "      <td>30</td>\n",
       "      <td>2</td>\n",
       "      <td>13</td>\n",
       "      <td>9</td>\n",
       "      <td>NaN</td>\n",
       "      <td>NaN</td>\n",
       "      <td>36.782203</td>\n",
       "      <td>3398</td>\n",
       "    </tr>\n",
       "  </tbody>\n",
       "</table>\n",
       "<p>5 rows × 21 columns</p>\n",
       "</div>"
      ],
      "text/plain": [
       "   Vehicle_Type  Platform_Type  Personal_or_Business  Placement__Day_of_Month  \\\n",
       "0             0              3                     0                        9   \n",
       "1             0              3                     1                       12   \n",
       "3             0              3                     0                       15   \n",
       "6             0              3                     0                        9   \n",
       "8             0              3                     0                       30   \n",
       "\n",
       "   Placement__Weekday_(Mo_=_1)  Confirmation__Day_of_Month  \\\n",
       "0                            5                           9   \n",
       "1                            5                          12   \n",
       "3                            5                          15   \n",
       "6                            5                           9   \n",
       "8                            2                          30   \n",
       "\n",
       "   Confirmation__Weekday_(Mo_=_1)  Arrival_at_Pickup__Day_of_Month  \\\n",
       "0                               5                                9   \n",
       "1                               5                               12   \n",
       "3                               5                               15   \n",
       "6                               5                                9   \n",
       "8                               2                               30   \n",
       "\n",
       "   Arrival_at_Pickup__Weekday_(Mo_=_1)  Arrival_at_Pickup__Time  \\\n",
       "0                                    5                       10   \n",
       "1                                    5                       11   \n",
       "3                                    5                        9   \n",
       "6                                    5                        9   \n",
       "8                                    2                       12   \n",
       "\n",
       "              ...               Pickup__Weekday_(Mo_=_1)  Pickup__Time  \\\n",
       "0             ...                                      5            10   \n",
       "1             ...                                      5            11   \n",
       "3             ...                                      5             9   \n",
       "6             ...                                      5             9   \n",
       "8             ...                                      2            12   \n",
       "\n",
       "   Arrival_at_Destination__Day_of_Month  \\\n",
       "0                                     9   \n",
       "1                                    12   \n",
       "3                                    15   \n",
       "6                                     9   \n",
       "8                                    30   \n",
       "\n",
       "   Arrival_at_Destination__Weekday_(Mo_=_1)  Arrival_at_Destination__Time  \\\n",
       "0                                         5                            10   \n",
       "1                                         5                            12   \n",
       "3                                         5                            10   \n",
       "6                                         5                            10   \n",
       "8                                         2                            13   \n",
       "\n",
       "   Distance_(KM)  Temperature  Precipitation_in_millimeters  Pickup_Long  \\\n",
       "0              4         20.4                           NaN    36.830370   \n",
       "1             16         26.4                           NaN    36.899315   \n",
       "3              9         19.2                           NaN    36.832396   \n",
       "6              5         20.3                           NaN    36.825364   \n",
       "8              9          NaN                           NaN    36.782203   \n",
       "\n",
       "   Time_from_Pickup_to_Arrival  \n",
       "0                          745  \n",
       "1                         1993  \n",
       "3                         1341  \n",
       "6                         1380  \n",
       "8                         3398  \n",
       "\n",
       "[5 rows x 21 columns]"
      ]
     },
     "execution_count": 48,
     "metadata": {},
     "output_type": "execute_result"
    }
   ],
   "source": [
    "dataset.head()"
   ]
  },
  {
   "cell_type": "code",
   "execution_count": 49,
   "metadata": {},
   "outputs": [],
   "source": [
    "#check correlation again\n",
    "correlation2 = dataset.corr()"
   ]
  },
  {
   "cell_type": "code",
   "execution_count": 50,
   "metadata": {},
   "outputs": [
    {
     "data": {
      "text/plain": [
       "<matplotlib.axes._subplots.AxesSubplot at 0x7f6692cfe438>"
      ]
     },
     "execution_count": 50,
     "metadata": {},
     "output_type": "execute_result"
    },
    {
     "data": {
      "image/png": "[encoded data removed]",
      "text/plain": [
       "<Figure size 1440x1440 with 1 Axes>"
      ]
     },
     "metadata": {},
     "output_type": "display_data"
    }
   ],
   "source": [
    "sb.set_style('whitegrid')\n",
    "plt.figure(figsize=(20,20))\n",
    "sb.heatmap(correlation2,annot=True,cmap='Blues',cbar=False)"
   ]
  },
  {
   "cell_type": "markdown",
   "metadata": {},
   "source": [
    "#### split the dataset into train and test "
   ]
  },
  {
   "cell_type": "code",
   "execution_count": 51,
   "metadata": {},
   "outputs": [],
   "source": [
    "class Spliter(BaseEstimator,TransformerMixin):\n",
    "    def __init__(self,test_size,target_column):\n",
    "        self.test_size = test_size\n",
    "        self.target_column = target_column\n",
    "    def fit(self,X,y=None):\n",
    "        return self\n",
    "    def transform(self,X,y=None):\n",
    "        np.random.seed(100)\n",
    "        shuffle_indeces = np.random.permutation(len(X))\n",
    "        test_ratio = np.int(len(X)*self.test_size)\n",
    "        train_indeces = shuffle_indeces[test_ratio:]\n",
    "        test_indeces = shuffle_indeces[:test_ratio]\n",
    "        train_set = X.iloc[train_indeces]\n",
    "        test_set = X.iloc[test_indeces]\n",
    "        train_set_labels = train_set[self.target_column].copy()\n",
    "        train_set_features = train_set.drop(self.target_column,axis=1)\n",
    "        test_set_labels = test_set[self.target_column].copy()\n",
    "        test_set_features = test_set.drop(self.target_column,axis=1)\n",
    "        return train_set_features,train_set_labels,test_set_features,test_set_labels\n",
    "        "
   ]
  },
  {
   "cell_type": "code",
   "execution_count": 52,
   "metadata": {},
   "outputs": [],
   "source": [
    "target_column = ['Time_from_Pickup_to_Arrival']\n",
    "spliter = Spliter(test_size=0.15,target_column=target_column)\n",
    "train_set_features,train_set_labels,test_set_features,test_set_labels = spliter.fit_transform(dataset)"
   ]
  },
  {
   "cell_type": "code",
   "execution_count": 53,
   "metadata": {},
   "outputs": [
    {
     "data": {
      "text/plain": [
       "(10001, 20)"
      ]
     },
     "execution_count": 53,
     "metadata": {},
     "output_type": "execute_result"
    }
   ],
   "source": [
    "train_set_features.shape"
   ]
  },
  {
   "cell_type": "code",
   "execution_count": 54,
   "metadata": {},
   "outputs": [
    {
     "data": {
      "text/html": [
       "<div>\n",
       "<style scoped>\n",
       "    .dataframe tbody tr th:only-of-type {\n",
       "        vertical-align: middle;\n",
       "    }\n",
       "\n",
       "    .dataframe tbody tr th {\n",
       "        vertical-align: top;\n",
       "    }\n",
       "\n",
       "    .dataframe thead th {\n",
       "        text-align: right;\n",
       "    }\n",
       "</style>\n",
       "<table border=\"1\" class=\"dataframe\">\n",
       "  <thead>\n",
       "    <tr style=\"text-align: right;\">\n",
       "      <th></th>\n",
       "      <th>Time_from_Pickup_to_Arrival</th>\n",
       "    </tr>\n",
       "  </thead>\n",
       "  <tbody>\n",
       "    <tr>\n",
       "      <th>10424</th>\n",
       "      <td>1912</td>\n",
       "    </tr>\n",
       "    <tr>\n",
       "      <th>12999</th>\n",
       "      <td>1759</td>\n",
       "    </tr>\n",
       "    <tr>\n",
       "      <th>4777</th>\n",
       "      <td>857</td>\n",
       "    </tr>\n",
       "    <tr>\n",
       "      <th>16879</th>\n",
       "      <td>431</td>\n",
       "    </tr>\n",
       "    <tr>\n",
       "      <th>17423</th>\n",
       "      <td>2484</td>\n",
       "    </tr>\n",
       "  </tbody>\n",
       "</table>\n",
       "</div>"
      ],
      "text/plain": [
       "       Time_from_Pickup_to_Arrival\n",
       "10424                         1912\n",
       "12999                         1759\n",
       "4777                           857\n",
       "16879                          431\n",
       "17423                         2484"
      ]
     },
     "execution_count": 54,
     "metadata": {},
     "output_type": "execute_result"
    }
   ],
   "source": [
    "train_set_labels.head()"
   ]
  },
  {
   "cell_type": "code",
   "execution_count": 55,
   "metadata": {},
   "outputs": [
    {
     "data": {
      "text/plain": [
       "Vehicle_Type                                   0\n",
       "Platform_Type                                  0\n",
       "Personal_or_Business                           0\n",
       "Placement__Day_of_Month                        0\n",
       "Placement__Weekday_(Mo_=_1)                    0\n",
       "Confirmation__Day_of_Month                     0\n",
       "Confirmation__Weekday_(Mo_=_1)                 0\n",
       "Arrival_at_Pickup__Day_of_Month                0\n",
       "Arrival_at_Pickup__Weekday_(Mo_=_1)            0\n",
       "Arrival_at_Pickup__Time                        0\n",
       "Pickup__Day_of_Month                           0\n",
       "Pickup__Weekday_(Mo_=_1)                       0\n",
       "Pickup__Time                                   0\n",
       "Arrival_at_Destination__Day_of_Month           0\n",
       "Arrival_at_Destination__Weekday_(Mo_=_1)       0\n",
       "Arrival_at_Destination__Time                   0\n",
       "Distance_(KM)                                  0\n",
       "Temperature                                 2325\n",
       "Precipitation_in_millimeters                9789\n",
       "Pickup_Long                                    0\n",
       "dtype: int64"
      ]
     },
     "execution_count": 55,
     "metadata": {},
     "output_type": "execute_result"
    }
   ],
   "source": [
    "train_set_features.isna().sum()"
   ]
  },
  {
   "cell_type": "code",
   "execution_count": 56,
   "metadata": {},
   "outputs": [
    {
     "data": {
      "text/plain": [
       "(1764, 20)"
      ]
     },
     "execution_count": 56,
     "metadata": {},
     "output_type": "execute_result"
    }
   ],
   "source": [
    "test_set_features.shape"
   ]
  },
  {
   "cell_type": "code",
   "execution_count": 57,
   "metadata": {},
   "outputs": [],
   "source": [
    "class ProcessNumerical(BaseEstimator,TransformerMixin):\n",
    "    def fit(self,X,y=None):\n",
    "        return self\n",
    "    def transform(self,X,y=None):\n",
    "        num_pipeline = Pipeline([('imputer',SimpleImputer(strategy='mean')),\n",
    "                                 ('scaler',StandardScaler())])\n",
    "        X = num_pipeline.fit_transform(X)\n",
    "        return X"
   ]
  },
  {
   "cell_type": "code",
   "execution_count": 58,
   "metadata": {},
   "outputs": [],
   "source": [
    "num_processor = ProcessNumerical()\n",
    "train_set_features = num_processor.fit_transform(train_set_features)\n",
    "test_set_features = num_processor.fit_transform(test_set_features)"
   ]
  },
  {
   "cell_type": "markdown",
   "metadata": {},
   "source": [
    "#### create models"
   ]
  },
  {
   "cell_type": "code",
   "execution_count": 59,
   "metadata": {},
   "outputs": [],
   "source": [
    "#selec algorithm to work with and train them to get model\n",
    "svm = SVR()\n",
    "mlp = MLPRegressor()\n",
    "abr = AdaBoostRegressor()\n",
    "dtr = DecisionTreeRegressor()\n",
    "gbr = GradientBoostingRegressor()\n",
    "xgb = XGBRegressor(nthread=-1,objective='reg:squarederror')\n",
    "models = [svm,mlp,abr,dtr,gbr,xgb]\n",
    "model_names = ['svm','mlp','abr','dtr','gbr','xgb']"
   ]
  },
  {
   "cell_type": "code",
   "execution_count": 60,
   "metadata": {},
   "outputs": [],
   "source": [
    "def train(models,model_names):\n",
    "    rmse = []\n",
    "    names = []\n",
    "    for model,model_name in zip(models,model_names):\n",
    "        model.fit(train_set_features,train_set_labels)  \n",
    "        m_mse = cross_val_score(model,train_set_features,train_set_labels,cv=5,n_jobs=-1,scoring='neg_mean_squared_error')\n",
    "        predictions = model.predict(test_set_features)\n",
    "        rmserror = mean_squared_error(predictions,test_set_labels)\n",
    "        rmse.append(np.sqrt(-m_mse).mean())\n",
    "        names.append(model_name)\n",
    "        import joblib\n",
    "        joblib.dump(model,'./Model/'+model_name+'.pkl')\n",
    "    return rmse,names"
   ]
  },
  {
   "cell_type": "code",
   "execution_count": 61,
   "metadata": {},
   "outputs": [],
   "source": [
    "rmse,models_names = train(models=models,model_names=model_names)"
   ]
  },
  {
   "cell_type": "code",
   "execution_count": 62,
   "metadata": {},
   "outputs": [
    {
     "data": {
      "text/html": [
       "<div>\n",
       "<style scoped>\n",
       "    .dataframe tbody tr th:only-of-type {\n",
       "        vertical-align: middle;\n",
       "    }\n",
       "\n",
       "    .dataframe tbody tr th {\n",
       "        vertical-align: top;\n",
       "    }\n",
       "\n",
       "    .dataframe thead th {\n",
       "        text-align: right;\n",
       "    }\n",
       "</style>\n",
       "<table border=\"1\" class=\"dataframe\">\n",
       "  <thead>\n",
       "    <tr style=\"text-align: right;\">\n",
       "      <th></th>\n",
       "      <th>abr</th>\n",
       "      <th>dtr</th>\n",
       "      <th>gbr</th>\n",
       "      <th>mlp</th>\n",
       "      <th>svm</th>\n",
       "      <th>xgb</th>\n",
       "    </tr>\n",
       "  </thead>\n",
       "  <tbody>\n",
       "    <tr>\n",
       "      <th>0</th>\n",
       "      <td>622.422652</td>\n",
       "      <td>829.66437</td>\n",
       "      <td>553.674207</td>\n",
       "      <td>610.980752</td>\n",
       "      <td>682.967379</td>\n",
       "      <td>552.705345</td>\n",
       "    </tr>\n",
       "  </tbody>\n",
       "</table>\n",
       "</div>"
      ],
      "text/plain": [
       "          abr        dtr         gbr         mlp         svm         xgb\n",
       "0  622.422652  829.66437  553.674207  610.980752  682.967379  552.705345"
      ]
     },
     "execution_count": 62,
     "metadata": {},
     "output_type": "execute_result"
    }
   ],
   "source": [
    "#visualizing the results \n",
    "#create a pandas dataframe \n",
    "result = pd.Series(data=[i for i in rmse],index=model_names)\n",
    "result_df = pd.DataFrame()\n",
    "result_df.append(result,ignore_index=True)"
   ]
  },
  {
   "cell_type": "code",
   "execution_count": 63,
   "metadata": {},
   "outputs": [],
   "source": [
    "model_gbr = joblib.load('./Model/gbr.pkl')\n",
    "model_xgb = joblib.load('./Model/xgb.pkl')"
   ]
  },
  {
   "cell_type": "code",
   "execution_count": 64,
   "metadata": {},
   "outputs": [],
   "source": [
    "predictions_gbr = model_gbr.predict(test_set_features)\n",
    "predictions_xgb = model_xgb.predict(test_set_features)"
   ]
  },
  {
   "cell_type": "code",
   "execution_count": 65,
   "metadata": {},
   "outputs": [],
   "source": [
    "rmse_gbr = np.sqrt(mean_squared_error(predictions_gbr,test_set_labels))\n",
    "rmse_xgb = np.sqrt(mean_squared_error(predictions_xgb,test_set_labels))\n",
    "xgb_accuracy = model_xgb.score(test_set_features,test_set_labels)\n",
    "gbr_accuracy = model_gbr.score(test_set_features,test_set_labels)"
   ]
  },
  {
   "cell_type": "code",
   "execution_count": 66,
   "metadata": {},
   "outputs": [
    {
     "name": "stdout",
     "output_type": "stream",
     "text": [
      "RMSE GBR :  545.6863328371851  And Accuracy :  0.42313371491495955\n"
     ]
    }
   ],
   "source": [
    "print(\"RMSE GBR : \",rmse_gbr,' And Accuracy : ',gbr_accuracy)"
   ]
  },
  {
   "cell_type": "code",
   "execution_count": 67,
   "metadata": {},
   "outputs": [
    {
     "name": "stdout",
     "output_type": "stream",
     "text": [
      "RMSE XGB :  545.233626476088  And Accuracy :  0.42409046495398534\n"
     ]
    }
   ],
   "source": [
    "print(\"RMSE XGB : \",rmse_xgb,' And Accuracy : ',xgb_accuracy)"
   ]
  },
  {
   "cell_type": "code",
   "execution_count": 68,
   "metadata": {},
   "outputs": [],
   "source": [
    "#load testing data\n",
    "test_data = pd.read_csv('/home/nsomazr/AISuccess/Challenges/Zindi/SendLogistics/Data/Test.csv')"
   ]
  },
  {
   "cell_type": "code",
   "execution_count": 69,
   "metadata": {},
   "outputs": [
    {
     "data": {
      "text/html": [
       "<div>\n",
       "<style scoped>\n",
       "    .dataframe tbody tr th:only-of-type {\n",
       "        vertical-align: middle;\n",
       "    }\n",
       "\n",
       "    .dataframe tbody tr th {\n",
       "        vertical-align: top;\n",
       "    }\n",
       "\n",
       "    .dataframe thead th {\n",
       "        text-align: right;\n",
       "    }\n",
       "</style>\n",
       "<table border=\"1\" class=\"dataframe\">\n",
       "  <thead>\n",
       "    <tr style=\"text-align: right;\">\n",
       "      <th></th>\n",
       "      <th>Order No</th>\n",
       "      <th>User Id</th>\n",
       "      <th>Vehicle Type</th>\n",
       "      <th>Platform Type</th>\n",
       "      <th>Personal or Business</th>\n",
       "      <th>Placement - Day of Month</th>\n",
       "      <th>Placement - Weekday (Mo = 1)</th>\n",
       "      <th>Placement - Time</th>\n",
       "      <th>Confirmation - Day of Month</th>\n",
       "      <th>Confirmation - Weekday (Mo = 1)</th>\n",
       "      <th>...</th>\n",
       "      <th>Pickup - Weekday (Mo = 1)</th>\n",
       "      <th>Pickup - Time</th>\n",
       "      <th>Distance (KM)</th>\n",
       "      <th>Temperature</th>\n",
       "      <th>Precipitation in millimeters</th>\n",
       "      <th>Pickup Lat</th>\n",
       "      <th>Pickup Long</th>\n",
       "      <th>Destination Lat</th>\n",
       "      <th>Destination Long</th>\n",
       "      <th>Rider Id</th>\n",
       "    </tr>\n",
       "  </thead>\n",
       "  <tbody>\n",
       "    <tr>\n",
       "      <th>0</th>\n",
       "      <td>Order_No_19248</td>\n",
       "      <td>User_Id_3355</td>\n",
       "      <td>Bike</td>\n",
       "      <td>3</td>\n",
       "      <td>Business</td>\n",
       "      <td>27</td>\n",
       "      <td>3</td>\n",
       "      <td>4:44:10 PM</td>\n",
       "      <td>27</td>\n",
       "      <td>3</td>\n",
       "      <td>...</td>\n",
       "      <td>3</td>\n",
       "      <td>5:06:47 PM</td>\n",
       "      <td>8</td>\n",
       "      <td>NaN</td>\n",
       "      <td>NaN</td>\n",
       "      <td>-1.333275</td>\n",
       "      <td>36.870815</td>\n",
       "      <td>-1.305249</td>\n",
       "      <td>36.822390</td>\n",
       "      <td>Rider_Id_192</td>\n",
       "    </tr>\n",
       "    <tr>\n",
       "      <th>1</th>\n",
       "      <td>Order_No_12736</td>\n",
       "      <td>User_Id_3647</td>\n",
       "      <td>Bike</td>\n",
       "      <td>3</td>\n",
       "      <td>Business</td>\n",
       "      <td>17</td>\n",
       "      <td>5</td>\n",
       "      <td>12:57:35 PM</td>\n",
       "      <td>17</td>\n",
       "      <td>5</td>\n",
       "      <td>...</td>\n",
       "      <td>5</td>\n",
       "      <td>1:25:37 PM</td>\n",
       "      <td>5</td>\n",
       "      <td>NaN</td>\n",
       "      <td>NaN</td>\n",
       "      <td>-1.272639</td>\n",
       "      <td>36.794723</td>\n",
       "      <td>-1.277007</td>\n",
       "      <td>36.823907</td>\n",
       "      <td>Rider_Id_868</td>\n",
       "    </tr>\n",
       "    <tr>\n",
       "      <th>2</th>\n",
       "      <td>Order_No_768</td>\n",
       "      <td>User_Id_2154</td>\n",
       "      <td>Bike</td>\n",
       "      <td>3</td>\n",
       "      <td>Business</td>\n",
       "      <td>27</td>\n",
       "      <td>4</td>\n",
       "      <td>11:08:14 AM</td>\n",
       "      <td>27</td>\n",
       "      <td>4</td>\n",
       "      <td>...</td>\n",
       "      <td>4</td>\n",
       "      <td>11:57:54 AM</td>\n",
       "      <td>5</td>\n",
       "      <td>22.8</td>\n",
       "      <td>NaN</td>\n",
       "      <td>-1.290894</td>\n",
       "      <td>36.822971</td>\n",
       "      <td>-1.276574</td>\n",
       "      <td>36.851365</td>\n",
       "      <td>Rider_Id_26</td>\n",
       "    </tr>\n",
       "    <tr>\n",
       "      <th>3</th>\n",
       "      <td>Order_No_15332</td>\n",
       "      <td>User_Id_2910</td>\n",
       "      <td>Bike</td>\n",
       "      <td>3</td>\n",
       "      <td>Business</td>\n",
       "      <td>17</td>\n",
       "      <td>1</td>\n",
       "      <td>1:51:35 PM</td>\n",
       "      <td>17</td>\n",
       "      <td>1</td>\n",
       "      <td>...</td>\n",
       "      <td>1</td>\n",
       "      <td>2:16:52 PM</td>\n",
       "      <td>5</td>\n",
       "      <td>24.5</td>\n",
       "      <td>NaN</td>\n",
       "      <td>-1.290503</td>\n",
       "      <td>36.809646</td>\n",
       "      <td>-1.303382</td>\n",
       "      <td>36.790658</td>\n",
       "      <td>Rider_Id_685</td>\n",
       "    </tr>\n",
       "    <tr>\n",
       "      <th>4</th>\n",
       "      <td>Order_No_21373</td>\n",
       "      <td>User_Id_1205</td>\n",
       "      <td>Bike</td>\n",
       "      <td>3</td>\n",
       "      <td>Business</td>\n",
       "      <td>11</td>\n",
       "      <td>2</td>\n",
       "      <td>11:30:28 AM</td>\n",
       "      <td>11</td>\n",
       "      <td>2</td>\n",
       "      <td>...</td>\n",
       "      <td>2</td>\n",
       "      <td>11:56:04 AM</td>\n",
       "      <td>6</td>\n",
       "      <td>24.4</td>\n",
       "      <td>NaN</td>\n",
       "      <td>-1.281081</td>\n",
       "      <td>36.814423</td>\n",
       "      <td>-1.266467</td>\n",
       "      <td>36.792161</td>\n",
       "      <td>Rider_Id_858</td>\n",
       "    </tr>\n",
       "  </tbody>\n",
       "</table>\n",
       "<p>5 rows × 25 columns</p>\n",
       "</div>"
      ],
      "text/plain": [
       "         Order No       User Id Vehicle Type  Platform Type  \\\n",
       "0  Order_No_19248  User_Id_3355         Bike              3   \n",
       "1  Order_No_12736  User_Id_3647         Bike              3   \n",
       "2    Order_No_768  User_Id_2154         Bike              3   \n",
       "3  Order_No_15332  User_Id_2910         Bike              3   \n",
       "4  Order_No_21373  User_Id_1205         Bike              3   \n",
       "\n",
       "  Personal or Business  Placement - Day of Month  \\\n",
       "0             Business                        27   \n",
       "1             Business                        17   \n",
       "2             Business                        27   \n",
       "3             Business                        17   \n",
       "4             Business                        11   \n",
       "\n",
       "   Placement - Weekday (Mo = 1) Placement - Time  Confirmation - Day of Month  \\\n",
       "0                             3       4:44:10 PM                           27   \n",
       "1                             5      12:57:35 PM                           17   \n",
       "2                             4      11:08:14 AM                           27   \n",
       "3                             1       1:51:35 PM                           17   \n",
       "4                             2      11:30:28 AM                           11   \n",
       "\n",
       "   Confirmation - Weekday (Mo = 1)      ...      Pickup - Weekday (Mo = 1)  \\\n",
       "0                                3      ...                              3   \n",
       "1                                5      ...                              5   \n",
       "2                                4      ...                              4   \n",
       "3                                1      ...                              1   \n",
       "4                                2      ...                              2   \n",
       "\n",
       "   Pickup - Time  Distance (KM) Temperature  Precipitation in millimeters  \\\n",
       "0     5:06:47 PM              8         NaN                           NaN   \n",
       "1     1:25:37 PM              5         NaN                           NaN   \n",
       "2    11:57:54 AM              5        22.8                           NaN   \n",
       "3     2:16:52 PM              5        24.5                           NaN   \n",
       "4    11:56:04 AM              6        24.4                           NaN   \n",
       "\n",
       "   Pickup Lat Pickup Long  Destination Lat  Destination Long      Rider Id  \n",
       "0   -1.333275   36.870815        -1.305249         36.822390  Rider_Id_192  \n",
       "1   -1.272639   36.794723        -1.277007         36.823907  Rider_Id_868  \n",
       "2   -1.290894   36.822971        -1.276574         36.851365   Rider_Id_26  \n",
       "3   -1.290503   36.809646        -1.303382         36.790658  Rider_Id_685  \n",
       "4   -1.281081   36.814423        -1.266467         36.792161  Rider_Id_858  \n",
       "\n",
       "[5 rows x 25 columns]"
      ]
     },
     "execution_count": 69,
     "metadata": {},
     "output_type": "execute_result"
    }
   ],
   "source": [
    "test_data.head()"
   ]
  },
  {
   "cell_type": "code",
   "execution_count": 70,
   "metadata": {},
   "outputs": [],
   "source": [
    "column_names = test_data.columns\n",
    "rename_cols = RenameColumns(column_names=column_names)"
   ]
  },
  {
   "cell_type": "code",
   "execution_count": 71,
   "metadata": {},
   "outputs": [],
   "source": [
    "test_data = rename_cols.fit_transform(test_data)"
   ]
  },
  {
   "cell_type": "code",
   "execution_count": 72,
   "metadata": {},
   "outputs": [],
   "source": [
    "predictions_df = test_data['Order_No']"
   ]
  },
  {
   "cell_type": "code",
   "execution_count": 73,
   "metadata": {},
   "outputs": [
    {
     "data": {
      "text/html": [
       "<div>\n",
       "<style scoped>\n",
       "    .dataframe tbody tr th:only-of-type {\n",
       "        vertical-align: middle;\n",
       "    }\n",
       "\n",
       "    .dataframe tbody tr th {\n",
       "        vertical-align: top;\n",
       "    }\n",
       "\n",
       "    .dataframe thead th {\n",
       "        text-align: right;\n",
       "    }\n",
       "</style>\n",
       "<table border=\"1\" class=\"dataframe\">\n",
       "  <thead>\n",
       "    <tr style=\"text-align: right;\">\n",
       "      <th></th>\n",
       "      <th>Order_No</th>\n",
       "      <th>User_Id</th>\n",
       "      <th>Vehicle_Type</th>\n",
       "      <th>Platform_Type</th>\n",
       "      <th>Personal_or_Business</th>\n",
       "      <th>Placement__Day_of_Month</th>\n",
       "      <th>Placement__Weekday_(Mo_=_1)</th>\n",
       "      <th>Placement__Time</th>\n",
       "      <th>Confirmation__Day_of_Month</th>\n",
       "      <th>Confirmation__Weekday_(Mo_=_1)</th>\n",
       "      <th>...</th>\n",
       "      <th>Pickup__Weekday_(Mo_=_1)</th>\n",
       "      <th>Pickup__Time</th>\n",
       "      <th>Distance_(KM)</th>\n",
       "      <th>Temperature</th>\n",
       "      <th>Precipitation_in_millimeters</th>\n",
       "      <th>Pickup_Lat</th>\n",
       "      <th>Pickup_Long</th>\n",
       "      <th>Destination_Lat</th>\n",
       "      <th>Destination_Long</th>\n",
       "      <th>Rider_Id</th>\n",
       "    </tr>\n",
       "  </thead>\n",
       "  <tbody>\n",
       "    <tr>\n",
       "      <th>0</th>\n",
       "      <td>Order_No_19248</td>\n",
       "      <td>User_Id_3355</td>\n",
       "      <td>Bike</td>\n",
       "      <td>3</td>\n",
       "      <td>Business</td>\n",
       "      <td>27</td>\n",
       "      <td>3</td>\n",
       "      <td>4:44:10 PM</td>\n",
       "      <td>27</td>\n",
       "      <td>3</td>\n",
       "      <td>...</td>\n",
       "      <td>3</td>\n",
       "      <td>5:06:47 PM</td>\n",
       "      <td>8</td>\n",
       "      <td>NaN</td>\n",
       "      <td>NaN</td>\n",
       "      <td>-1.333275</td>\n",
       "      <td>36.870815</td>\n",
       "      <td>-1.305249</td>\n",
       "      <td>36.822390</td>\n",
       "      <td>Rider_Id_192</td>\n",
       "    </tr>\n",
       "    <tr>\n",
       "      <th>1</th>\n",
       "      <td>Order_No_12736</td>\n",
       "      <td>User_Id_3647</td>\n",
       "      <td>Bike</td>\n",
       "      <td>3</td>\n",
       "      <td>Business</td>\n",
       "      <td>17</td>\n",
       "      <td>5</td>\n",
       "      <td>12:57:35 PM</td>\n",
       "      <td>17</td>\n",
       "      <td>5</td>\n",
       "      <td>...</td>\n",
       "      <td>5</td>\n",
       "      <td>1:25:37 PM</td>\n",
       "      <td>5</td>\n",
       "      <td>NaN</td>\n",
       "      <td>NaN</td>\n",
       "      <td>-1.272639</td>\n",
       "      <td>36.794723</td>\n",
       "      <td>-1.277007</td>\n",
       "      <td>36.823907</td>\n",
       "      <td>Rider_Id_868</td>\n",
       "    </tr>\n",
       "    <tr>\n",
       "      <th>2</th>\n",
       "      <td>Order_No_768</td>\n",
       "      <td>User_Id_2154</td>\n",
       "      <td>Bike</td>\n",
       "      <td>3</td>\n",
       "      <td>Business</td>\n",
       "      <td>27</td>\n",
       "      <td>4</td>\n",
       "      <td>11:08:14 AM</td>\n",
       "      <td>27</td>\n",
       "      <td>4</td>\n",
       "      <td>...</td>\n",
       "      <td>4</td>\n",
       "      <td>11:57:54 AM</td>\n",
       "      <td>5</td>\n",
       "      <td>22.8</td>\n",
       "      <td>NaN</td>\n",
       "      <td>-1.290894</td>\n",
       "      <td>36.822971</td>\n",
       "      <td>-1.276574</td>\n",
       "      <td>36.851365</td>\n",
       "      <td>Rider_Id_26</td>\n",
       "    </tr>\n",
       "    <tr>\n",
       "      <th>3</th>\n",
       "      <td>Order_No_15332</td>\n",
       "      <td>User_Id_2910</td>\n",
       "      <td>Bike</td>\n",
       "      <td>3</td>\n",
       "      <td>Business</td>\n",
       "      <td>17</td>\n",
       "      <td>1</td>\n",
       "      <td>1:51:35 PM</td>\n",
       "      <td>17</td>\n",
       "      <td>1</td>\n",
       "      <td>...</td>\n",
       "      <td>1</td>\n",
       "      <td>2:16:52 PM</td>\n",
       "      <td>5</td>\n",
       "      <td>24.5</td>\n",
       "      <td>NaN</td>\n",
       "      <td>-1.290503</td>\n",
       "      <td>36.809646</td>\n",
       "      <td>-1.303382</td>\n",
       "      <td>36.790658</td>\n",
       "      <td>Rider_Id_685</td>\n",
       "    </tr>\n",
       "    <tr>\n",
       "      <th>4</th>\n",
       "      <td>Order_No_21373</td>\n",
       "      <td>User_Id_1205</td>\n",
       "      <td>Bike</td>\n",
       "      <td>3</td>\n",
       "      <td>Business</td>\n",
       "      <td>11</td>\n",
       "      <td>2</td>\n",
       "      <td>11:30:28 AM</td>\n",
       "      <td>11</td>\n",
       "      <td>2</td>\n",
       "      <td>...</td>\n",
       "      <td>2</td>\n",
       "      <td>11:56:04 AM</td>\n",
       "      <td>6</td>\n",
       "      <td>24.4</td>\n",
       "      <td>NaN</td>\n",
       "      <td>-1.281081</td>\n",
       "      <td>36.814423</td>\n",
       "      <td>-1.266467</td>\n",
       "      <td>36.792161</td>\n",
       "      <td>Rider_Id_858</td>\n",
       "    </tr>\n",
       "  </tbody>\n",
       "</table>\n",
       "<p>5 rows × 25 columns</p>\n",
       "</div>"
      ],
      "text/plain": [
       "         Order_No       User_Id Vehicle_Type  Platform_Type  \\\n",
       "0  Order_No_19248  User_Id_3355         Bike              3   \n",
       "1  Order_No_12736  User_Id_3647         Bike              3   \n",
       "2    Order_No_768  User_Id_2154         Bike              3   \n",
       "3  Order_No_15332  User_Id_2910         Bike              3   \n",
       "4  Order_No_21373  User_Id_1205         Bike              3   \n",
       "\n",
       "  Personal_or_Business  Placement__Day_of_Month  Placement__Weekday_(Mo_=_1)  \\\n",
       "0             Business                       27                            3   \n",
       "1             Business                       17                            5   \n",
       "2             Business                       27                            4   \n",
       "3             Business                       17                            1   \n",
       "4             Business                       11                            2   \n",
       "\n",
       "  Placement__Time  Confirmation__Day_of_Month  Confirmation__Weekday_(Mo_=_1)  \\\n",
       "0      4:44:10 PM                          27                               3   \n",
       "1     12:57:35 PM                          17                               5   \n",
       "2     11:08:14 AM                          27                               4   \n",
       "3      1:51:35 PM                          17                               1   \n",
       "4     11:30:28 AM                          11                               2   \n",
       "\n",
       "       ...      Pickup__Weekday_(Mo_=_1)  Pickup__Time  Distance_(KM)  \\\n",
       "0      ...                             3    5:06:47 PM              8   \n",
       "1      ...                             5    1:25:37 PM              5   \n",
       "2      ...                             4   11:57:54 AM              5   \n",
       "3      ...                             1    2:16:52 PM              5   \n",
       "4      ...                             2   11:56:04 AM              6   \n",
       "\n",
       "  Temperature  Precipitation_in_millimeters  Pickup_Lat Pickup_Long  \\\n",
       "0         NaN                           NaN   -1.333275   36.870815   \n",
       "1         NaN                           NaN   -1.272639   36.794723   \n",
       "2        22.8                           NaN   -1.290894   36.822971   \n",
       "3        24.5                           NaN   -1.290503   36.809646   \n",
       "4        24.4                           NaN   -1.281081   36.814423   \n",
       "\n",
       "   Destination_Lat  Destination_Long      Rider_Id  \n",
       "0        -1.305249         36.822390  Rider_Id_192  \n",
       "1        -1.277007         36.823907  Rider_Id_868  \n",
       "2        -1.276574         36.851365   Rider_Id_26  \n",
       "3        -1.303382         36.790658  Rider_Id_685  \n",
       "4        -1.266467         36.792161  Rider_Id_858  \n",
       "\n",
       "[5 rows x 25 columns]"
      ]
     },
     "execution_count": 73,
     "metadata": {},
     "output_type": "execute_result"
    }
   ],
   "source": [
    "test_data.head()"
   ]
  },
  {
   "cell_type": "code",
   "execution_count": 74,
   "metadata": {},
   "outputs": [],
   "source": [
    "#process categorical \n",
    "cat_process = ProcessCategorical(categorical_attributes)"
   ]
  },
  {
   "cell_type": "code",
   "execution_count": 75,
   "metadata": {},
   "outputs": [],
   "source": [
    "test_data = cat_process.fit_transform(test_data)"
   ]
  },
  {
   "cell_type": "code",
   "execution_count": 76,
   "metadata": {},
   "outputs": [
    {
     "data": {
      "text/html": [
       "<div>\n",
       "<style scoped>\n",
       "    .dataframe tbody tr th:only-of-type {\n",
       "        vertical-align: middle;\n",
       "    }\n",
       "\n",
       "    .dataframe tbody tr th {\n",
       "        vertical-align: top;\n",
       "    }\n",
       "\n",
       "    .dataframe thead th {\n",
       "        text-align: right;\n",
       "    }\n",
       "</style>\n",
       "<table border=\"1\" class=\"dataframe\">\n",
       "  <thead>\n",
       "    <tr style=\"text-align: right;\">\n",
       "      <th></th>\n",
       "      <th>Order_No</th>\n",
       "      <th>User_Id</th>\n",
       "      <th>Vehicle_Type</th>\n",
       "      <th>Platform_Type</th>\n",
       "      <th>Personal_or_Business</th>\n",
       "      <th>Placement__Day_of_Month</th>\n",
       "      <th>Placement__Weekday_(Mo_=_1)</th>\n",
       "      <th>Placement__Time</th>\n",
       "      <th>Confirmation__Day_of_Month</th>\n",
       "      <th>Confirmation__Weekday_(Mo_=_1)</th>\n",
       "      <th>...</th>\n",
       "      <th>Pickup__Weekday_(Mo_=_1)</th>\n",
       "      <th>Pickup__Time</th>\n",
       "      <th>Distance_(KM)</th>\n",
       "      <th>Temperature</th>\n",
       "      <th>Precipitation_in_millimeters</th>\n",
       "      <th>Pickup_Lat</th>\n",
       "      <th>Pickup_Long</th>\n",
       "      <th>Destination_Lat</th>\n",
       "      <th>Destination_Long</th>\n",
       "      <th>Rider_Id</th>\n",
       "    </tr>\n",
       "  </thead>\n",
       "  <tbody>\n",
       "    <tr>\n",
       "      <th>0</th>\n",
       "      <td>Order_No_19248</td>\n",
       "      <td>User_Id_3355</td>\n",
       "      <td>0</td>\n",
       "      <td>3</td>\n",
       "      <td>0</td>\n",
       "      <td>27</td>\n",
       "      <td>3</td>\n",
       "      <td>4:44:10 PM</td>\n",
       "      <td>27</td>\n",
       "      <td>3</td>\n",
       "      <td>...</td>\n",
       "      <td>3</td>\n",
       "      <td>5:06:47 PM</td>\n",
       "      <td>8</td>\n",
       "      <td>NaN</td>\n",
       "      <td>NaN</td>\n",
       "      <td>-1.333275</td>\n",
       "      <td>36.870815</td>\n",
       "      <td>-1.305249</td>\n",
       "      <td>36.822390</td>\n",
       "      <td>Rider_Id_192</td>\n",
       "    </tr>\n",
       "    <tr>\n",
       "      <th>1</th>\n",
       "      <td>Order_No_12736</td>\n",
       "      <td>User_Id_3647</td>\n",
       "      <td>0</td>\n",
       "      <td>3</td>\n",
       "      <td>0</td>\n",
       "      <td>17</td>\n",
       "      <td>5</td>\n",
       "      <td>12:57:35 PM</td>\n",
       "      <td>17</td>\n",
       "      <td>5</td>\n",
       "      <td>...</td>\n",
       "      <td>5</td>\n",
       "      <td>1:25:37 PM</td>\n",
       "      <td>5</td>\n",
       "      <td>NaN</td>\n",
       "      <td>NaN</td>\n",
       "      <td>-1.272639</td>\n",
       "      <td>36.794723</td>\n",
       "      <td>-1.277007</td>\n",
       "      <td>36.823907</td>\n",
       "      <td>Rider_Id_868</td>\n",
       "    </tr>\n",
       "    <tr>\n",
       "      <th>2</th>\n",
       "      <td>Order_No_768</td>\n",
       "      <td>User_Id_2154</td>\n",
       "      <td>0</td>\n",
       "      <td>3</td>\n",
       "      <td>0</td>\n",
       "      <td>27</td>\n",
       "      <td>4</td>\n",
       "      <td>11:08:14 AM</td>\n",
       "      <td>27</td>\n",
       "      <td>4</td>\n",
       "      <td>...</td>\n",
       "      <td>4</td>\n",
       "      <td>11:57:54 AM</td>\n",
       "      <td>5</td>\n",
       "      <td>22.8</td>\n",
       "      <td>NaN</td>\n",
       "      <td>-1.290894</td>\n",
       "      <td>36.822971</td>\n",
       "      <td>-1.276574</td>\n",
       "      <td>36.851365</td>\n",
       "      <td>Rider_Id_26</td>\n",
       "    </tr>\n",
       "    <tr>\n",
       "      <th>3</th>\n",
       "      <td>Order_No_15332</td>\n",
       "      <td>User_Id_2910</td>\n",
       "      <td>0</td>\n",
       "      <td>3</td>\n",
       "      <td>0</td>\n",
       "      <td>17</td>\n",
       "      <td>1</td>\n",
       "      <td>1:51:35 PM</td>\n",
       "      <td>17</td>\n",
       "      <td>1</td>\n",
       "      <td>...</td>\n",
       "      <td>1</td>\n",
       "      <td>2:16:52 PM</td>\n",
       "      <td>5</td>\n",
       "      <td>24.5</td>\n",
       "      <td>NaN</td>\n",
       "      <td>-1.290503</td>\n",
       "      <td>36.809646</td>\n",
       "      <td>-1.303382</td>\n",
       "      <td>36.790658</td>\n",
       "      <td>Rider_Id_685</td>\n",
       "    </tr>\n",
       "    <tr>\n",
       "      <th>4</th>\n",
       "      <td>Order_No_21373</td>\n",
       "      <td>User_Id_1205</td>\n",
       "      <td>0</td>\n",
       "      <td>3</td>\n",
       "      <td>0</td>\n",
       "      <td>11</td>\n",
       "      <td>2</td>\n",
       "      <td>11:30:28 AM</td>\n",
       "      <td>11</td>\n",
       "      <td>2</td>\n",
       "      <td>...</td>\n",
       "      <td>2</td>\n",
       "      <td>11:56:04 AM</td>\n",
       "      <td>6</td>\n",
       "      <td>24.4</td>\n",
       "      <td>NaN</td>\n",
       "      <td>-1.281081</td>\n",
       "      <td>36.814423</td>\n",
       "      <td>-1.266467</td>\n",
       "      <td>36.792161</td>\n",
       "      <td>Rider_Id_858</td>\n",
       "    </tr>\n",
       "  </tbody>\n",
       "</table>\n",
       "<p>5 rows × 25 columns</p>\n",
       "</div>"
      ],
      "text/plain": [
       "         Order_No       User_Id  Vehicle_Type  Platform_Type  \\\n",
       "0  Order_No_19248  User_Id_3355             0              3   \n",
       "1  Order_No_12736  User_Id_3647             0              3   \n",
       "2    Order_No_768  User_Id_2154             0              3   \n",
       "3  Order_No_15332  User_Id_2910             0              3   \n",
       "4  Order_No_21373  User_Id_1205             0              3   \n",
       "\n",
       "   Personal_or_Business  Placement__Day_of_Month  Placement__Weekday_(Mo_=_1)  \\\n",
       "0                     0                       27                            3   \n",
       "1                     0                       17                            5   \n",
       "2                     0                       27                            4   \n",
       "3                     0                       17                            1   \n",
       "4                     0                       11                            2   \n",
       "\n",
       "  Placement__Time  Confirmation__Day_of_Month  Confirmation__Weekday_(Mo_=_1)  \\\n",
       "0      4:44:10 PM                          27                               3   \n",
       "1     12:57:35 PM                          17                               5   \n",
       "2     11:08:14 AM                          27                               4   \n",
       "3      1:51:35 PM                          17                               1   \n",
       "4     11:30:28 AM                          11                               2   \n",
       "\n",
       "       ...      Pickup__Weekday_(Mo_=_1)  Pickup__Time  Distance_(KM)  \\\n",
       "0      ...                             3    5:06:47 PM              8   \n",
       "1      ...                             5    1:25:37 PM              5   \n",
       "2      ...                             4   11:57:54 AM              5   \n",
       "3      ...                             1    2:16:52 PM              5   \n",
       "4      ...                             2   11:56:04 AM              6   \n",
       "\n",
       "  Temperature  Precipitation_in_millimeters  Pickup_Lat Pickup_Long  \\\n",
       "0         NaN                           NaN   -1.333275   36.870815   \n",
       "1         NaN                           NaN   -1.272639   36.794723   \n",
       "2        22.8                           NaN   -1.290894   36.822971   \n",
       "3        24.5                           NaN   -1.290503   36.809646   \n",
       "4        24.4                           NaN   -1.281081   36.814423   \n",
       "\n",
       "   Destination_Lat  Destination_Long      Rider_Id  \n",
       "0        -1.305249         36.822390  Rider_Id_192  \n",
       "1        -1.277007         36.823907  Rider_Id_868  \n",
       "2        -1.276574         36.851365   Rider_Id_26  \n",
       "3        -1.303382         36.790658  Rider_Id_685  \n",
       "4        -1.266467         36.792161  Rider_Id_858  \n",
       "\n",
       "[5 rows x 25 columns]"
      ]
     },
     "execution_count": 76,
     "metadata": {},
     "output_type": "execute_result"
    }
   ],
   "source": [
    "test_data.head()"
   ]
  },
  {
   "cell_type": "code",
   "execution_count": 77,
   "metadata": {},
   "outputs": [],
   "source": [
    "#drop unnecessary cols\n",
    "unnecess_cols = DropLessImportant(less_important_cols)"
   ]
  },
  {
   "cell_type": "code",
   "execution_count": 78,
   "metadata": {},
   "outputs": [],
   "source": [
    "test_data = unnecess_cols.fit_transform(test_data)"
   ]
  },
  {
   "cell_type": "code",
   "execution_count": 79,
   "metadata": {},
   "outputs": [
    {
     "data": {
      "text/html": [
       "<div>\n",
       "<style scoped>\n",
       "    .dataframe tbody tr th:only-of-type {\n",
       "        vertical-align: middle;\n",
       "    }\n",
       "\n",
       "    .dataframe tbody tr th {\n",
       "        vertical-align: top;\n",
       "    }\n",
       "\n",
       "    .dataframe thead th {\n",
       "        text-align: right;\n",
       "    }\n",
       "</style>\n",
       "<table border=\"1\" class=\"dataframe\">\n",
       "  <thead>\n",
       "    <tr style=\"text-align: right;\">\n",
       "      <th></th>\n",
       "      <th>Vehicle_Type</th>\n",
       "      <th>Platform_Type</th>\n",
       "      <th>Personal_or_Business</th>\n",
       "      <th>Placement__Day_of_Month</th>\n",
       "      <th>Placement__Weekday_(Mo_=_1)</th>\n",
       "      <th>Placement__Time</th>\n",
       "      <th>Confirmation__Day_of_Month</th>\n",
       "      <th>Confirmation__Weekday_(Mo_=_1)</th>\n",
       "      <th>Confirmation__Time</th>\n",
       "      <th>Arrival_at_Pickup__Day_of_Month</th>\n",
       "      <th>...</th>\n",
       "      <th>Pickup__Day_of_Month</th>\n",
       "      <th>Pickup__Weekday_(Mo_=_1)</th>\n",
       "      <th>Pickup__Time</th>\n",
       "      <th>Distance_(KM)</th>\n",
       "      <th>Temperature</th>\n",
       "      <th>Precipitation_in_millimeters</th>\n",
       "      <th>Pickup_Lat</th>\n",
       "      <th>Pickup_Long</th>\n",
       "      <th>Destination_Lat</th>\n",
       "      <th>Destination_Long</th>\n",
       "    </tr>\n",
       "  </thead>\n",
       "  <tbody>\n",
       "    <tr>\n",
       "      <th>0</th>\n",
       "      <td>0</td>\n",
       "      <td>3</td>\n",
       "      <td>0</td>\n",
       "      <td>27</td>\n",
       "      <td>3</td>\n",
       "      <td>4:44:10 PM</td>\n",
       "      <td>27</td>\n",
       "      <td>3</td>\n",
       "      <td>4:44:29 PM</td>\n",
       "      <td>27</td>\n",
       "      <td>...</td>\n",
       "      <td>27</td>\n",
       "      <td>3</td>\n",
       "      <td>5:06:47 PM</td>\n",
       "      <td>8</td>\n",
       "      <td>NaN</td>\n",
       "      <td>NaN</td>\n",
       "      <td>-1.333275</td>\n",
       "      <td>36.870815</td>\n",
       "      <td>-1.305249</td>\n",
       "      <td>36.822390</td>\n",
       "    </tr>\n",
       "    <tr>\n",
       "      <th>1</th>\n",
       "      <td>0</td>\n",
       "      <td>3</td>\n",
       "      <td>0</td>\n",
       "      <td>17</td>\n",
       "      <td>5</td>\n",
       "      <td>12:57:35 PM</td>\n",
       "      <td>17</td>\n",
       "      <td>5</td>\n",
       "      <td>12:59:17 PM</td>\n",
       "      <td>17</td>\n",
       "      <td>...</td>\n",
       "      <td>17</td>\n",
       "      <td>5</td>\n",
       "      <td>1:25:37 PM</td>\n",
       "      <td>5</td>\n",
       "      <td>NaN</td>\n",
       "      <td>NaN</td>\n",
       "      <td>-1.272639</td>\n",
       "      <td>36.794723</td>\n",
       "      <td>-1.277007</td>\n",
       "      <td>36.823907</td>\n",
       "    </tr>\n",
       "    <tr>\n",
       "      <th>2</th>\n",
       "      <td>0</td>\n",
       "      <td>3</td>\n",
       "      <td>0</td>\n",
       "      <td>27</td>\n",
       "      <td>4</td>\n",
       "      <td>11:08:14 AM</td>\n",
       "      <td>27</td>\n",
       "      <td>4</td>\n",
       "      <td>11:25:05 AM</td>\n",
       "      <td>27</td>\n",
       "      <td>...</td>\n",
       "      <td>27</td>\n",
       "      <td>4</td>\n",
       "      <td>11:57:54 AM</td>\n",
       "      <td>5</td>\n",
       "      <td>22.8</td>\n",
       "      <td>NaN</td>\n",
       "      <td>-1.290894</td>\n",
       "      <td>36.822971</td>\n",
       "      <td>-1.276574</td>\n",
       "      <td>36.851365</td>\n",
       "    </tr>\n",
       "    <tr>\n",
       "      <th>3</th>\n",
       "      <td>0</td>\n",
       "      <td>3</td>\n",
       "      <td>0</td>\n",
       "      <td>17</td>\n",
       "      <td>1</td>\n",
       "      <td>1:51:35 PM</td>\n",
       "      <td>17</td>\n",
       "      <td>1</td>\n",
       "      <td>1:53:27 PM</td>\n",
       "      <td>17</td>\n",
       "      <td>...</td>\n",
       "      <td>17</td>\n",
       "      <td>1</td>\n",
       "      <td>2:16:52 PM</td>\n",
       "      <td>5</td>\n",
       "      <td>24.5</td>\n",
       "      <td>NaN</td>\n",
       "      <td>-1.290503</td>\n",
       "      <td>36.809646</td>\n",
       "      <td>-1.303382</td>\n",
       "      <td>36.790658</td>\n",
       "    </tr>\n",
       "    <tr>\n",
       "      <th>4</th>\n",
       "      <td>0</td>\n",
       "      <td>3</td>\n",
       "      <td>0</td>\n",
       "      <td>11</td>\n",
       "      <td>2</td>\n",
       "      <td>11:30:28 AM</td>\n",
       "      <td>11</td>\n",
       "      <td>2</td>\n",
       "      <td>11:34:45 AM</td>\n",
       "      <td>11</td>\n",
       "      <td>...</td>\n",
       "      <td>11</td>\n",
       "      <td>2</td>\n",
       "      <td>11:56:04 AM</td>\n",
       "      <td>6</td>\n",
       "      <td>24.4</td>\n",
       "      <td>NaN</td>\n",
       "      <td>-1.281081</td>\n",
       "      <td>36.814423</td>\n",
       "      <td>-1.266467</td>\n",
       "      <td>36.792161</td>\n",
       "    </tr>\n",
       "  </tbody>\n",
       "</table>\n",
       "<p>5 rows × 22 columns</p>\n",
       "</div>"
      ],
      "text/plain": [
       "   Vehicle_Type  Platform_Type  Personal_or_Business  Placement__Day_of_Month  \\\n",
       "0             0              3                     0                       27   \n",
       "1             0              3                     0                       17   \n",
       "2             0              3                     0                       27   \n",
       "3             0              3                     0                       17   \n",
       "4             0              3                     0                       11   \n",
       "\n",
       "   Placement__Weekday_(Mo_=_1) Placement__Time  Confirmation__Day_of_Month  \\\n",
       "0                            3      4:44:10 PM                          27   \n",
       "1                            5     12:57:35 PM                          17   \n",
       "2                            4     11:08:14 AM                          27   \n",
       "3                            1      1:51:35 PM                          17   \n",
       "4                            2     11:30:28 AM                          11   \n",
       "\n",
       "   Confirmation__Weekday_(Mo_=_1) Confirmation__Time  \\\n",
       "0                               3         4:44:29 PM   \n",
       "1                               5        12:59:17 PM   \n",
       "2                               4        11:25:05 AM   \n",
       "3                               1         1:53:27 PM   \n",
       "4                               2        11:34:45 AM   \n",
       "\n",
       "   Arrival_at_Pickup__Day_of_Month        ...         Pickup__Day_of_Month  \\\n",
       "0                               27        ...                           27   \n",
       "1                               17        ...                           17   \n",
       "2                               27        ...                           27   \n",
       "3                               17        ...                           17   \n",
       "4                               11        ...                           11   \n",
       "\n",
       "  Pickup__Weekday_(Mo_=_1)  Pickup__Time  Distance_(KM) Temperature  \\\n",
       "0                        3    5:06:47 PM              8         NaN   \n",
       "1                        5    1:25:37 PM              5         NaN   \n",
       "2                        4   11:57:54 AM              5        22.8   \n",
       "3                        1    2:16:52 PM              5        24.5   \n",
       "4                        2   11:56:04 AM              6        24.4   \n",
       "\n",
       "   Precipitation_in_millimeters  Pickup_Lat  Pickup_Long  Destination_Lat  \\\n",
       "0                           NaN   -1.333275    36.870815        -1.305249   \n",
       "1                           NaN   -1.272639    36.794723        -1.277007   \n",
       "2                           NaN   -1.290894    36.822971        -1.276574   \n",
       "3                           NaN   -1.290503    36.809646        -1.303382   \n",
       "4                           NaN   -1.281081    36.814423        -1.266467   \n",
       "\n",
       "   Destination_Long  \n",
       "0         36.822390  \n",
       "1         36.823907  \n",
       "2         36.851365  \n",
       "3         36.790658  \n",
       "4         36.792161  \n",
       "\n",
       "[5 rows x 22 columns]"
      ]
     },
     "execution_count": 79,
     "metadata": {},
     "output_type": "execute_result"
    }
   ],
   "source": [
    "test_data.head()"
   ]
  },
  {
   "cell_type": "code",
   "execution_count": 80,
   "metadata": {},
   "outputs": [],
   "source": [
    "#process time \n",
    "time_attributes = ['Placement__Time','Confirmation__Time','Pickup__Time','Arrival_at_Pickup__Time']"
   ]
  },
  {
   "cell_type": "code",
   "execution_count": 81,
   "metadata": {},
   "outputs": [],
   "source": [
    "test_data[time_attributes] = pd.to_datetime(test_data[time_attributes].stack()).unstack()"
   ]
  },
  {
   "cell_type": "code",
   "execution_count": 82,
   "metadata": {},
   "outputs": [],
   "source": [
    "def getTime(dataset):\n",
    "    for i in time_attributes:\n",
    "        test_data[i] = test_data[i].dt.hour \n",
    "    return dataset     "
   ]
  },
  {
   "cell_type": "code",
   "execution_count": 83,
   "metadata": {},
   "outputs": [],
   "source": [
    "test_data = getTime(test_data)"
   ]
  },
  {
   "cell_type": "code",
   "execution_count": 84,
   "metadata": {},
   "outputs": [
    {
     "data": {
      "text/html": [
       "<div>\n",
       "<style scoped>\n",
       "    .dataframe tbody tr th:only-of-type {\n",
       "        vertical-align: middle;\n",
       "    }\n",
       "\n",
       "    .dataframe tbody tr th {\n",
       "        vertical-align: top;\n",
       "    }\n",
       "\n",
       "    .dataframe thead th {\n",
       "        text-align: right;\n",
       "    }\n",
       "</style>\n",
       "<table border=\"1\" class=\"dataframe\">\n",
       "  <thead>\n",
       "    <tr style=\"text-align: right;\">\n",
       "      <th></th>\n",
       "      <th>Vehicle_Type</th>\n",
       "      <th>Platform_Type</th>\n",
       "      <th>Personal_or_Business</th>\n",
       "      <th>Placement__Day_of_Month</th>\n",
       "      <th>Placement__Weekday_(Mo_=_1)</th>\n",
       "      <th>Placement__Time</th>\n",
       "      <th>Confirmation__Day_of_Month</th>\n",
       "      <th>Confirmation__Weekday_(Mo_=_1)</th>\n",
       "      <th>Confirmation__Time</th>\n",
       "      <th>Arrival_at_Pickup__Day_of_Month</th>\n",
       "      <th>...</th>\n",
       "      <th>Pickup__Day_of_Month</th>\n",
       "      <th>Pickup__Weekday_(Mo_=_1)</th>\n",
       "      <th>Pickup__Time</th>\n",
       "      <th>Distance_(KM)</th>\n",
       "      <th>Temperature</th>\n",
       "      <th>Precipitation_in_millimeters</th>\n",
       "      <th>Pickup_Lat</th>\n",
       "      <th>Pickup_Long</th>\n",
       "      <th>Destination_Lat</th>\n",
       "      <th>Destination_Long</th>\n",
       "    </tr>\n",
       "  </thead>\n",
       "  <tbody>\n",
       "    <tr>\n",
       "      <th>0</th>\n",
       "      <td>0</td>\n",
       "      <td>3</td>\n",
       "      <td>0</td>\n",
       "      <td>27</td>\n",
       "      <td>3</td>\n",
       "      <td>16</td>\n",
       "      <td>27</td>\n",
       "      <td>3</td>\n",
       "      <td>16</td>\n",
       "      <td>27</td>\n",
       "      <td>...</td>\n",
       "      <td>27</td>\n",
       "      <td>3</td>\n",
       "      <td>17</td>\n",
       "      <td>8</td>\n",
       "      <td>NaN</td>\n",
       "      <td>NaN</td>\n",
       "      <td>-1.333275</td>\n",
       "      <td>36.870815</td>\n",
       "      <td>-1.305249</td>\n",
       "      <td>36.822390</td>\n",
       "    </tr>\n",
       "    <tr>\n",
       "      <th>1</th>\n",
       "      <td>0</td>\n",
       "      <td>3</td>\n",
       "      <td>0</td>\n",
       "      <td>17</td>\n",
       "      <td>5</td>\n",
       "      <td>12</td>\n",
       "      <td>17</td>\n",
       "      <td>5</td>\n",
       "      <td>12</td>\n",
       "      <td>17</td>\n",
       "      <td>...</td>\n",
       "      <td>17</td>\n",
       "      <td>5</td>\n",
       "      <td>13</td>\n",
       "      <td>5</td>\n",
       "      <td>NaN</td>\n",
       "      <td>NaN</td>\n",
       "      <td>-1.272639</td>\n",
       "      <td>36.794723</td>\n",
       "      <td>-1.277007</td>\n",
       "      <td>36.823907</td>\n",
       "    </tr>\n",
       "    <tr>\n",
       "      <th>2</th>\n",
       "      <td>0</td>\n",
       "      <td>3</td>\n",
       "      <td>0</td>\n",
       "      <td>27</td>\n",
       "      <td>4</td>\n",
       "      <td>11</td>\n",
       "      <td>27</td>\n",
       "      <td>4</td>\n",
       "      <td>11</td>\n",
       "      <td>27</td>\n",
       "      <td>...</td>\n",
       "      <td>27</td>\n",
       "      <td>4</td>\n",
       "      <td>11</td>\n",
       "      <td>5</td>\n",
       "      <td>22.8</td>\n",
       "      <td>NaN</td>\n",
       "      <td>-1.290894</td>\n",
       "      <td>36.822971</td>\n",
       "      <td>-1.276574</td>\n",
       "      <td>36.851365</td>\n",
       "    </tr>\n",
       "    <tr>\n",
       "      <th>3</th>\n",
       "      <td>0</td>\n",
       "      <td>3</td>\n",
       "      <td>0</td>\n",
       "      <td>17</td>\n",
       "      <td>1</td>\n",
       "      <td>13</td>\n",
       "      <td>17</td>\n",
       "      <td>1</td>\n",
       "      <td>13</td>\n",
       "      <td>17</td>\n",
       "      <td>...</td>\n",
       "      <td>17</td>\n",
       "      <td>1</td>\n",
       "      <td>14</td>\n",
       "      <td>5</td>\n",
       "      <td>24.5</td>\n",
       "      <td>NaN</td>\n",
       "      <td>-1.290503</td>\n",
       "      <td>36.809646</td>\n",
       "      <td>-1.303382</td>\n",
       "      <td>36.790658</td>\n",
       "    </tr>\n",
       "    <tr>\n",
       "      <th>4</th>\n",
       "      <td>0</td>\n",
       "      <td>3</td>\n",
       "      <td>0</td>\n",
       "      <td>11</td>\n",
       "      <td>2</td>\n",
       "      <td>11</td>\n",
       "      <td>11</td>\n",
       "      <td>2</td>\n",
       "      <td>11</td>\n",
       "      <td>11</td>\n",
       "      <td>...</td>\n",
       "      <td>11</td>\n",
       "      <td>2</td>\n",
       "      <td>11</td>\n",
       "      <td>6</td>\n",
       "      <td>24.4</td>\n",
       "      <td>NaN</td>\n",
       "      <td>-1.281081</td>\n",
       "      <td>36.814423</td>\n",
       "      <td>-1.266467</td>\n",
       "      <td>36.792161</td>\n",
       "    </tr>\n",
       "  </tbody>\n",
       "</table>\n",
       "<p>5 rows × 22 columns</p>\n",
       "</div>"
      ],
      "text/plain": [
       "   Vehicle_Type  Platform_Type  Personal_or_Business  Placement__Day_of_Month  \\\n",
       "0             0              3                     0                       27   \n",
       "1             0              3                     0                       17   \n",
       "2             0              3                     0                       27   \n",
       "3             0              3                     0                       17   \n",
       "4             0              3                     0                       11   \n",
       "\n",
       "   Placement__Weekday_(Mo_=_1)  Placement__Time  Confirmation__Day_of_Month  \\\n",
       "0                            3               16                          27   \n",
       "1                            5               12                          17   \n",
       "2                            4               11                          27   \n",
       "3                            1               13                          17   \n",
       "4                            2               11                          11   \n",
       "\n",
       "   Confirmation__Weekday_(Mo_=_1)  Confirmation__Time  \\\n",
       "0                               3                  16   \n",
       "1                               5                  12   \n",
       "2                               4                  11   \n",
       "3                               1                  13   \n",
       "4                               2                  11   \n",
       "\n",
       "   Arrival_at_Pickup__Day_of_Month        ...         Pickup__Day_of_Month  \\\n",
       "0                               27        ...                           27   \n",
       "1                               17        ...                           17   \n",
       "2                               27        ...                           27   \n",
       "3                               17        ...                           17   \n",
       "4                               11        ...                           11   \n",
       "\n",
       "   Pickup__Weekday_(Mo_=_1)  Pickup__Time  Distance_(KM)  Temperature  \\\n",
       "0                         3            17              8          NaN   \n",
       "1                         5            13              5          NaN   \n",
       "2                         4            11              5         22.8   \n",
       "3                         1            14              5         24.5   \n",
       "4                         2            11              6         24.4   \n",
       "\n",
       "   Precipitation_in_millimeters  Pickup_Lat  Pickup_Long  Destination_Lat  \\\n",
       "0                           NaN   -1.333275    36.870815        -1.305249   \n",
       "1                           NaN   -1.272639    36.794723        -1.277007   \n",
       "2                           NaN   -1.290894    36.822971        -1.276574   \n",
       "3                           NaN   -1.290503    36.809646        -1.303382   \n",
       "4                           NaN   -1.281081    36.814423        -1.266467   \n",
       "\n",
       "   Destination_Long  \n",
       "0         36.822390  \n",
       "1         36.823907  \n",
       "2         36.851365  \n",
       "3         36.790658  \n",
       "4         36.792161  \n",
       "\n",
       "[5 rows x 22 columns]"
      ]
     },
     "execution_count": 84,
     "metadata": {},
     "output_type": "execute_result"
    }
   ],
   "source": [
    "test_data.head()"
   ]
  },
  {
   "cell_type": "code",
   "execution_count": 85,
   "metadata": {},
   "outputs": [],
   "source": [
    "test_data = test_data.drop(['Destination_Lat','Pickup_Lat'],axis=1)"
   ]
  },
  {
   "cell_type": "code",
   "execution_count": 86,
   "metadata": {},
   "outputs": [
    {
     "data": {
      "text/html": [
       "<div>\n",
       "<style scoped>\n",
       "    .dataframe tbody tr th:only-of-type {\n",
       "        vertical-align: middle;\n",
       "    }\n",
       "\n",
       "    .dataframe tbody tr th {\n",
       "        vertical-align: top;\n",
       "    }\n",
       "\n",
       "    .dataframe thead th {\n",
       "        text-align: right;\n",
       "    }\n",
       "</style>\n",
       "<table border=\"1\" class=\"dataframe\">\n",
       "  <thead>\n",
       "    <tr style=\"text-align: right;\">\n",
       "      <th></th>\n",
       "      <th>Vehicle_Type</th>\n",
       "      <th>Platform_Type</th>\n",
       "      <th>Personal_or_Business</th>\n",
       "      <th>Placement__Day_of_Month</th>\n",
       "      <th>Placement__Weekday_(Mo_=_1)</th>\n",
       "      <th>Placement__Time</th>\n",
       "      <th>Confirmation__Day_of_Month</th>\n",
       "      <th>Confirmation__Weekday_(Mo_=_1)</th>\n",
       "      <th>Confirmation__Time</th>\n",
       "      <th>Arrival_at_Pickup__Day_of_Month</th>\n",
       "      <th>Arrival_at_Pickup__Weekday_(Mo_=_1)</th>\n",
       "      <th>Arrival_at_Pickup__Time</th>\n",
       "      <th>Pickup__Day_of_Month</th>\n",
       "      <th>Pickup__Weekday_(Mo_=_1)</th>\n",
       "      <th>Pickup__Time</th>\n",
       "      <th>Distance_(KM)</th>\n",
       "      <th>Temperature</th>\n",
       "      <th>Precipitation_in_millimeters</th>\n",
       "      <th>Pickup_Long</th>\n",
       "      <th>Destination_Long</th>\n",
       "    </tr>\n",
       "  </thead>\n",
       "  <tbody>\n",
       "    <tr>\n",
       "      <th>0</th>\n",
       "      <td>0</td>\n",
       "      <td>3</td>\n",
       "      <td>0</td>\n",
       "      <td>27</td>\n",
       "      <td>3</td>\n",
       "      <td>16</td>\n",
       "      <td>27</td>\n",
       "      <td>3</td>\n",
       "      <td>16</td>\n",
       "      <td>27</td>\n",
       "      <td>3</td>\n",
       "      <td>16</td>\n",
       "      <td>27</td>\n",
       "      <td>3</td>\n",
       "      <td>17</td>\n",
       "      <td>8</td>\n",
       "      <td>NaN</td>\n",
       "      <td>NaN</td>\n",
       "      <td>36.870815</td>\n",
       "      <td>36.822390</td>\n",
       "    </tr>\n",
       "    <tr>\n",
       "      <th>1</th>\n",
       "      <td>0</td>\n",
       "      <td>3</td>\n",
       "      <td>0</td>\n",
       "      <td>17</td>\n",
       "      <td>5</td>\n",
       "      <td>12</td>\n",
       "      <td>17</td>\n",
       "      <td>5</td>\n",
       "      <td>12</td>\n",
       "      <td>17</td>\n",
       "      <td>5</td>\n",
       "      <td>13</td>\n",
       "      <td>17</td>\n",
       "      <td>5</td>\n",
       "      <td>13</td>\n",
       "      <td>5</td>\n",
       "      <td>NaN</td>\n",
       "      <td>NaN</td>\n",
       "      <td>36.794723</td>\n",
       "      <td>36.823907</td>\n",
       "    </tr>\n",
       "    <tr>\n",
       "      <th>2</th>\n",
       "      <td>0</td>\n",
       "      <td>3</td>\n",
       "      <td>0</td>\n",
       "      <td>27</td>\n",
       "      <td>4</td>\n",
       "      <td>11</td>\n",
       "      <td>27</td>\n",
       "      <td>4</td>\n",
       "      <td>11</td>\n",
       "      <td>27</td>\n",
       "      <td>4</td>\n",
       "      <td>11</td>\n",
       "      <td>27</td>\n",
       "      <td>4</td>\n",
       "      <td>11</td>\n",
       "      <td>5</td>\n",
       "      <td>22.8</td>\n",
       "      <td>NaN</td>\n",
       "      <td>36.822971</td>\n",
       "      <td>36.851365</td>\n",
       "    </tr>\n",
       "    <tr>\n",
       "      <th>3</th>\n",
       "      <td>0</td>\n",
       "      <td>3</td>\n",
       "      <td>0</td>\n",
       "      <td>17</td>\n",
       "      <td>1</td>\n",
       "      <td>13</td>\n",
       "      <td>17</td>\n",
       "      <td>1</td>\n",
       "      <td>13</td>\n",
       "      <td>17</td>\n",
       "      <td>1</td>\n",
       "      <td>14</td>\n",
       "      <td>17</td>\n",
       "      <td>1</td>\n",
       "      <td>14</td>\n",
       "      <td>5</td>\n",
       "      <td>24.5</td>\n",
       "      <td>NaN</td>\n",
       "      <td>36.809646</td>\n",
       "      <td>36.790658</td>\n",
       "    </tr>\n",
       "    <tr>\n",
       "      <th>4</th>\n",
       "      <td>0</td>\n",
       "      <td>3</td>\n",
       "      <td>0</td>\n",
       "      <td>11</td>\n",
       "      <td>2</td>\n",
       "      <td>11</td>\n",
       "      <td>11</td>\n",
       "      <td>2</td>\n",
       "      <td>11</td>\n",
       "      <td>11</td>\n",
       "      <td>2</td>\n",
       "      <td>11</td>\n",
       "      <td>11</td>\n",
       "      <td>2</td>\n",
       "      <td>11</td>\n",
       "      <td>6</td>\n",
       "      <td>24.4</td>\n",
       "      <td>NaN</td>\n",
       "      <td>36.814423</td>\n",
       "      <td>36.792161</td>\n",
       "    </tr>\n",
       "  </tbody>\n",
       "</table>\n",
       "</div>"
      ],
      "text/plain": [
       "   Vehicle_Type  Platform_Type  Personal_or_Business  Placement__Day_of_Month  \\\n",
       "0             0              3                     0                       27   \n",
       "1             0              3                     0                       17   \n",
       "2             0              3                     0                       27   \n",
       "3             0              3                     0                       17   \n",
       "4             0              3                     0                       11   \n",
       "\n",
       "   Placement__Weekday_(Mo_=_1)  Placement__Time  Confirmation__Day_of_Month  \\\n",
       "0                            3               16                          27   \n",
       "1                            5               12                          17   \n",
       "2                            4               11                          27   \n",
       "3                            1               13                          17   \n",
       "4                            2               11                          11   \n",
       "\n",
       "   Confirmation__Weekday_(Mo_=_1)  Confirmation__Time  \\\n",
       "0                               3                  16   \n",
       "1                               5                  12   \n",
       "2                               4                  11   \n",
       "3                               1                  13   \n",
       "4                               2                  11   \n",
       "\n",
       "   Arrival_at_Pickup__Day_of_Month  Arrival_at_Pickup__Weekday_(Mo_=_1)  \\\n",
       "0                               27                                    3   \n",
       "1                               17                                    5   \n",
       "2                               27                                    4   \n",
       "3                               17                                    1   \n",
       "4                               11                                    2   \n",
       "\n",
       "   Arrival_at_Pickup__Time  Pickup__Day_of_Month  Pickup__Weekday_(Mo_=_1)  \\\n",
       "0                       16                    27                         3   \n",
       "1                       13                    17                         5   \n",
       "2                       11                    27                         4   \n",
       "3                       14                    17                         1   \n",
       "4                       11                    11                         2   \n",
       "\n",
       "   Pickup__Time  Distance_(KM)  Temperature  Precipitation_in_millimeters  \\\n",
       "0            17              8          NaN                           NaN   \n",
       "1            13              5          NaN                           NaN   \n",
       "2            11              5         22.8                           NaN   \n",
       "3            14              5         24.5                           NaN   \n",
       "4            11              6         24.4                           NaN   \n",
       "\n",
       "   Pickup_Long  Destination_Long  \n",
       "0    36.870815         36.822390  \n",
       "1    36.794723         36.823907  \n",
       "2    36.822971         36.851365  \n",
       "3    36.809646         36.790658  \n",
       "4    36.814423         36.792161  "
      ]
     },
     "execution_count": 86,
     "metadata": {},
     "output_type": "execute_result"
    }
   ],
   "source": [
    "test_data.head()"
   ]
  },
  {
   "cell_type": "code",
   "execution_count": 87,
   "metadata": {},
   "outputs": [
    {
     "data": {
      "text/plain": [
       "Index(['Vehicle_Type', 'Platform_Type', 'Personal_or_Business',\n",
       "       'Placement__Day_of_Month', 'Placement__Weekday_(Mo_=_1)',\n",
       "       'Placement__Time', 'Confirmation__Day_of_Month',\n",
       "       'Confirmation__Weekday_(Mo_=_1)', 'Confirmation__Time',\n",
       "       'Arrival_at_Pickup__Day_of_Month',\n",
       "       'Arrival_at_Pickup__Weekday_(Mo_=_1)', 'Arrival_at_Pickup__Time',\n",
       "       'Pickup__Day_of_Month', 'Pickup__Weekday_(Mo_=_1)', 'Pickup__Time',\n",
       "       'Distance_(KM)', 'Temperature', 'Precipitation_in_millimeters',\n",
       "       'Pickup_Long', 'Destination_Long'],\n",
       "      dtype='object')"
      ]
     },
     "execution_count": 87,
     "metadata": {},
     "output_type": "execute_result"
    }
   ],
   "source": [
    "test_data.columns"
   ]
  },
  {
   "cell_type": "code",
   "execution_count": 88,
   "metadata": {},
   "outputs": [],
   "source": [
    "cat_proc = ProcessCategorical(categorical_attributes=categorical_attributes)"
   ]
  },
  {
   "cell_type": "code",
   "execution_count": 89,
   "metadata": {},
   "outputs": [],
   "source": [
    "test_data = cat_proc.fit_transform(test_data)"
   ]
  },
  {
   "cell_type": "code",
   "execution_count": 90,
   "metadata": {},
   "outputs": [
    {
     "data": {
      "text/html": [
       "<div>\n",
       "<style scoped>\n",
       "    .dataframe tbody tr th:only-of-type {\n",
       "        vertical-align: middle;\n",
       "    }\n",
       "\n",
       "    .dataframe tbody tr th {\n",
       "        vertical-align: top;\n",
       "    }\n",
       "\n",
       "    .dataframe thead th {\n",
       "        text-align: right;\n",
       "    }\n",
       "</style>\n",
       "<table border=\"1\" class=\"dataframe\">\n",
       "  <thead>\n",
       "    <tr style=\"text-align: right;\">\n",
       "      <th></th>\n",
       "      <th>Vehicle_Type</th>\n",
       "      <th>Platform_Type</th>\n",
       "      <th>Personal_or_Business</th>\n",
       "      <th>Placement__Day_of_Month</th>\n",
       "      <th>Placement__Weekday_(Mo_=_1)</th>\n",
       "      <th>Placement__Time</th>\n",
       "      <th>Confirmation__Day_of_Month</th>\n",
       "      <th>Confirmation__Weekday_(Mo_=_1)</th>\n",
       "      <th>Confirmation__Time</th>\n",
       "      <th>Arrival_at_Pickup__Day_of_Month</th>\n",
       "      <th>Arrival_at_Pickup__Weekday_(Mo_=_1)</th>\n",
       "      <th>Arrival_at_Pickup__Time</th>\n",
       "      <th>Pickup__Day_of_Month</th>\n",
       "      <th>Pickup__Weekday_(Mo_=_1)</th>\n",
       "      <th>Pickup__Time</th>\n",
       "      <th>Distance_(KM)</th>\n",
       "      <th>Temperature</th>\n",
       "      <th>Precipitation_in_millimeters</th>\n",
       "      <th>Pickup_Long</th>\n",
       "      <th>Destination_Long</th>\n",
       "    </tr>\n",
       "  </thead>\n",
       "  <tbody>\n",
       "    <tr>\n",
       "      <th>0</th>\n",
       "      <td>0</td>\n",
       "      <td>3</td>\n",
       "      <td>0</td>\n",
       "      <td>27</td>\n",
       "      <td>3</td>\n",
       "      <td>16</td>\n",
       "      <td>27</td>\n",
       "      <td>3</td>\n",
       "      <td>16</td>\n",
       "      <td>27</td>\n",
       "      <td>3</td>\n",
       "      <td>16</td>\n",
       "      <td>27</td>\n",
       "      <td>3</td>\n",
       "      <td>17</td>\n",
       "      <td>8</td>\n",
       "      <td>NaN</td>\n",
       "      <td>NaN</td>\n",
       "      <td>36.870815</td>\n",
       "      <td>36.822390</td>\n",
       "    </tr>\n",
       "    <tr>\n",
       "      <th>1</th>\n",
       "      <td>0</td>\n",
       "      <td>3</td>\n",
       "      <td>0</td>\n",
       "      <td>17</td>\n",
       "      <td>5</td>\n",
       "      <td>12</td>\n",
       "      <td>17</td>\n",
       "      <td>5</td>\n",
       "      <td>12</td>\n",
       "      <td>17</td>\n",
       "      <td>5</td>\n",
       "      <td>13</td>\n",
       "      <td>17</td>\n",
       "      <td>5</td>\n",
       "      <td>13</td>\n",
       "      <td>5</td>\n",
       "      <td>NaN</td>\n",
       "      <td>NaN</td>\n",
       "      <td>36.794723</td>\n",
       "      <td>36.823907</td>\n",
       "    </tr>\n",
       "    <tr>\n",
       "      <th>2</th>\n",
       "      <td>0</td>\n",
       "      <td>3</td>\n",
       "      <td>0</td>\n",
       "      <td>27</td>\n",
       "      <td>4</td>\n",
       "      <td>11</td>\n",
       "      <td>27</td>\n",
       "      <td>4</td>\n",
       "      <td>11</td>\n",
       "      <td>27</td>\n",
       "      <td>4</td>\n",
       "      <td>11</td>\n",
       "      <td>27</td>\n",
       "      <td>4</td>\n",
       "      <td>11</td>\n",
       "      <td>5</td>\n",
       "      <td>22.8</td>\n",
       "      <td>NaN</td>\n",
       "      <td>36.822971</td>\n",
       "      <td>36.851365</td>\n",
       "    </tr>\n",
       "    <tr>\n",
       "      <th>3</th>\n",
       "      <td>0</td>\n",
       "      <td>3</td>\n",
       "      <td>0</td>\n",
       "      <td>17</td>\n",
       "      <td>1</td>\n",
       "      <td>13</td>\n",
       "      <td>17</td>\n",
       "      <td>1</td>\n",
       "      <td>13</td>\n",
       "      <td>17</td>\n",
       "      <td>1</td>\n",
       "      <td>14</td>\n",
       "      <td>17</td>\n",
       "      <td>1</td>\n",
       "      <td>14</td>\n",
       "      <td>5</td>\n",
       "      <td>24.5</td>\n",
       "      <td>NaN</td>\n",
       "      <td>36.809646</td>\n",
       "      <td>36.790658</td>\n",
       "    </tr>\n",
       "    <tr>\n",
       "      <th>4</th>\n",
       "      <td>0</td>\n",
       "      <td>3</td>\n",
       "      <td>0</td>\n",
       "      <td>11</td>\n",
       "      <td>2</td>\n",
       "      <td>11</td>\n",
       "      <td>11</td>\n",
       "      <td>2</td>\n",
       "      <td>11</td>\n",
       "      <td>11</td>\n",
       "      <td>2</td>\n",
       "      <td>11</td>\n",
       "      <td>11</td>\n",
       "      <td>2</td>\n",
       "      <td>11</td>\n",
       "      <td>6</td>\n",
       "      <td>24.4</td>\n",
       "      <td>NaN</td>\n",
       "      <td>36.814423</td>\n",
       "      <td>36.792161</td>\n",
       "    </tr>\n",
       "  </tbody>\n",
       "</table>\n",
       "</div>"
      ],
      "text/plain": [
       "   Vehicle_Type  Platform_Type  Personal_or_Business  Placement__Day_of_Month  \\\n",
       "0             0              3                     0                       27   \n",
       "1             0              3                     0                       17   \n",
       "2             0              3                     0                       27   \n",
       "3             0              3                     0                       17   \n",
       "4             0              3                     0                       11   \n",
       "\n",
       "   Placement__Weekday_(Mo_=_1)  Placement__Time  Confirmation__Day_of_Month  \\\n",
       "0                            3               16                          27   \n",
       "1                            5               12                          17   \n",
       "2                            4               11                          27   \n",
       "3                            1               13                          17   \n",
       "4                            2               11                          11   \n",
       "\n",
       "   Confirmation__Weekday_(Mo_=_1)  Confirmation__Time  \\\n",
       "0                               3                  16   \n",
       "1                               5                  12   \n",
       "2                               4                  11   \n",
       "3                               1                  13   \n",
       "4                               2                  11   \n",
       "\n",
       "   Arrival_at_Pickup__Day_of_Month  Arrival_at_Pickup__Weekday_(Mo_=_1)  \\\n",
       "0                               27                                    3   \n",
       "1                               17                                    5   \n",
       "2                               27                                    4   \n",
       "3                               17                                    1   \n",
       "4                               11                                    2   \n",
       "\n",
       "   Arrival_at_Pickup__Time  Pickup__Day_of_Month  Pickup__Weekday_(Mo_=_1)  \\\n",
       "0                       16                    27                         3   \n",
       "1                       13                    17                         5   \n",
       "2                       11                    27                         4   \n",
       "3                       14                    17                         1   \n",
       "4                       11                    11                         2   \n",
       "\n",
       "   Pickup__Time  Distance_(KM)  Temperature  Precipitation_in_millimeters  \\\n",
       "0            17              8          NaN                           NaN   \n",
       "1            13              5          NaN                           NaN   \n",
       "2            11              5         22.8                           NaN   \n",
       "3            14              5         24.5                           NaN   \n",
       "4            11              6         24.4                           NaN   \n",
       "\n",
       "   Pickup_Long  Destination_Long  \n",
       "0    36.870815         36.822390  \n",
       "1    36.794723         36.823907  \n",
       "2    36.822971         36.851365  \n",
       "3    36.809646         36.790658  \n",
       "4    36.814423         36.792161  "
      ]
     },
     "execution_count": 90,
     "metadata": {},
     "output_type": "execute_result"
    }
   ],
   "source": [
    "test_data.head()"
   ]
  },
  {
   "cell_type": "code",
   "execution_count": 91,
   "metadata": {},
   "outputs": [],
   "source": [
    "test_data_pipeline = Pipeline([('imputer',SimpleImputer(strategy='mean')),\n",
    "                              ('scaler',StandardScaler())])"
   ]
  },
  {
   "cell_type": "code",
   "execution_count": 92,
   "metadata": {},
   "outputs": [],
   "source": [
    "test_data_scaled = test_data_pipeline.fit_transform(test_data)"
   ]
  },
  {
   "cell_type": "code",
   "execution_count": 93,
   "metadata": {},
   "outputs": [],
   "source": [
    "test_data_df = pd.DataFrame(test_data_scaled,columns=test_data.columns)"
   ]
  },
  {
   "cell_type": "code",
   "execution_count": 94,
   "metadata": {},
   "outputs": [],
   "source": [
    "predictions = model_xgb.predict(test_data_scaled)"
   ]
  },
  {
   "cell_type": "code",
   "execution_count": 95,
   "metadata": {},
   "outputs": [],
   "source": [
    "predictions_values= pd.DataFrame(data=predictions,columns=['Time from Pickup to Arrival'])"
   ]
  },
  {
   "cell_type": "code",
   "execution_count": 96,
   "metadata": {},
   "outputs": [],
   "source": [
    "predictions_final = pd.concat([predictions_df,predictions_values],axis=1)"
   ]
  },
  {
   "cell_type": "code",
   "execution_count": 97,
   "metadata": {},
   "outputs": [
    {
     "data": {
      "text/html": [
       "<div>\n",
       "<style scoped>\n",
       "    .dataframe tbody tr th:only-of-type {\n",
       "        vertical-align: middle;\n",
       "    }\n",
       "\n",
       "    .dataframe tbody tr th {\n",
       "        vertical-align: top;\n",
       "    }\n",
       "\n",
       "    .dataframe thead th {\n",
       "        text-align: right;\n",
       "    }\n",
       "</style>\n",
       "<table border=\"1\" class=\"dataframe\">\n",
       "  <thead>\n",
       "    <tr style=\"text-align: right;\">\n",
       "      <th></th>\n",
       "      <th>Order_No</th>\n",
       "      <th>Time from Pickup to Arrival</th>\n",
       "    </tr>\n",
       "  </thead>\n",
       "  <tbody>\n",
       "    <tr>\n",
       "      <th>0</th>\n",
       "      <td>Order_No_19248</td>\n",
       "      <td>1134.736938</td>\n",
       "    </tr>\n",
       "    <tr>\n",
       "      <th>1</th>\n",
       "      <td>Order_No_12736</td>\n",
       "      <td>1192.318115</td>\n",
       "    </tr>\n",
       "    <tr>\n",
       "      <th>2</th>\n",
       "      <td>Order_No_768</td>\n",
       "      <td>899.840698</td>\n",
       "    </tr>\n",
       "    <tr>\n",
       "      <th>3</th>\n",
       "      <td>Order_No_15332</td>\n",
       "      <td>1258.341797</td>\n",
       "    </tr>\n",
       "    <tr>\n",
       "      <th>4</th>\n",
       "      <td>Order_No_21373</td>\n",
       "      <td>1375.592285</td>\n",
       "    </tr>\n",
       "  </tbody>\n",
       "</table>\n",
       "</div>"
      ],
      "text/plain": [
       "         Order_No  Time from Pickup to Arrival\n",
       "0  Order_No_19248                  1134.736938\n",
       "1  Order_No_12736                  1192.318115\n",
       "2    Order_No_768                   899.840698\n",
       "3  Order_No_15332                  1258.341797\n",
       "4  Order_No_21373                  1375.592285"
      ]
     },
     "execution_count": 97,
     "metadata": {},
     "output_type": "execute_result"
    }
   ],
   "source": [
    "predictions_final.head()"
   ]
  },
  {
   "cell_type": "code",
   "execution_count": 98,
   "metadata": {},
   "outputs": [],
   "source": [
    "predictions_final = predictions_final.set_index(['Order_No','Time from Pickup to Arrival'])"
   ]
  },
  {
   "cell_type": "code",
   "execution_count": 99,
   "metadata": {},
   "outputs": [
    {
     "data": {
      "text/html": [
       "<div>\n",
       "<style scoped>\n",
       "    .dataframe tbody tr th:only-of-type {\n",
       "        vertical-align: middle;\n",
       "    }\n",
       "\n",
       "    .dataframe tbody tr th {\n",
       "        vertical-align: top;\n",
       "    }\n",
       "\n",
       "    .dataframe thead th {\n",
       "        text-align: right;\n",
       "    }\n",
       "</style>\n",
       "<table border=\"1\" class=\"dataframe\">\n",
       "  <thead>\n",
       "    <tr style=\"text-align: right;\">\n",
       "      <th></th>\n",
       "      <th></th>\n",
       "    </tr>\n",
       "    <tr>\n",
       "      <th>Order_No</th>\n",
       "      <th>Time from Pickup to Arrival</th>\n",
       "    </tr>\n",
       "  </thead>\n",
       "  <tbody>\n",
       "    <tr>\n",
       "      <th>Order_No_19248</th>\n",
       "      <th>1134.736938</th>\n",
       "    </tr>\n",
       "    <tr>\n",
       "      <th>Order_No_12736</th>\n",
       "      <th>1192.318115</th>\n",
       "    </tr>\n",
       "    <tr>\n",
       "      <th>Order_No_768</th>\n",
       "      <th>899.840698</th>\n",
       "    </tr>\n",
       "    <tr>\n",
       "      <th>Order_No_15332</th>\n",
       "      <th>1258.341797</th>\n",
       "    </tr>\n",
       "    <tr>\n",
       "      <th>Order_No_21373</th>\n",
       "      <th>1375.592285</th>\n",
       "    </tr>\n",
       "  </tbody>\n",
       "</table>\n",
       "</div>"
      ],
      "text/plain": [
       "Empty DataFrame\n",
       "Columns: []\n",
       "Index: [(Order_No_19248, 1134.7369384765625), (Order_No_12736, 1192.318115234375), (Order_No_768, 899.8406982421875), (Order_No_15332, 1258.341796875), (Order_No_21373, 1375.59228515625)]"
      ]
     },
     "execution_count": 99,
     "metadata": {},
     "output_type": "execute_result"
    }
   ],
   "source": [
    "predictions_final.head()"
   ]
  },
  {
   "cell_type": "code",
   "execution_count": 100,
   "metadata": {},
   "outputs": [],
   "source": [
    "predictions = predictions_final.to_csv('./Predictions/predictions.csv')"
   ]
  },
  {
   "cell_type": "code",
   "execution_count": 101,
   "metadata": {},
   "outputs": [],
   "source": [
    "pr = pd.read_csv('/home/nsomazr/AISuccess/Challenges/Zindi/SendLogistics/Notebooks/Prepredictions = predictions_final.to_csv('./Predictions/predictions.csv')dictions/predictions.csv')"
   ]
  }
 ],
 "metadata": {
  "kernelspec": {
   "display_name": "Python 3",
   "language": "python",
   "name": "python3"
  },
  "language_info": {
   "codemirror_mode": {
    "name": "ipython",
    "version": 3
   },
   "file_extension": ".py",
   "mimetype": "text/x-python",
   "name": "python",
   "nbconvert_exporter": "python",
   "pygments_lexer": "ipython3",
   "version": "3.7.4"
  },
  "toc": {
   "base_numbering": 1,
   "nav_menu": {},
   "number_sections": true,
   "sideBar": true,
   "skip_h1_title": false,
   "title_cell": "Table of Contents",
   "title_sidebar": "Contents",
   "toc_cell": false,
   "toc_position": {},
   "toc_section_display": true,
   "toc_window_display": false
  }
 },
 "nbformat": 4,
 "nbformat_minor": 2
}
